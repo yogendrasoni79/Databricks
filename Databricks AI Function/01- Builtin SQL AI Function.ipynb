{
 "cells": [
  {
   "cell_type": "markdown",
   "metadata": {
    "application/vnd.databricks.v1+cell": {
     "cellMetadata": {},
     "inputWidgets": {},
     "nuid": "d610a2ac-e977-473c-acb2-38e2ecee5bae",
     "showTitle": false,
     "title": ""
    }
   },
   "source": [
    "# Process and analyses text with Built In Databricks SQL AI functions"
   ]
  },
  {
   "cell_type": "markdown",
   "metadata": {
    "application/vnd.databricks.v1+cell": {
     "cellMetadata": {},
     "inputWidgets": {},
     "nuid": "6b44075f-fe34-4427-a499-59e5990b26d6",
     "showTitle": false,
     "title": ""
    }
   },
   "source": [
    "Databricks SQL provides built-in GenAI capabilities, letting you perform adhoc operation, leveraging state of the art LLM, optimized for these tasks.  It use Mixtral behind the scenes. \n",
    "\n",
    "These functions are the following:\n",
    "\n",
    "- ai_analyze_sentiment\n",
    "- ai_classify\n",
    "- ai_extract\n",
    "- ai_fix_grammar\n",
    "- ai_gen\n",
    "- ai_mask\n",
    "- ai_similarity\n",
    "- ai_summarize\n",
    "- ai_translate\n",
    "\n",
    "Using these functions is pretty straightforward. Under the hood, they call specialized LLMs with a custom prompt, providing fast answers.\n",
    "\n",
    "You can use them on any column in any SQL text. This demo runs using a SQL Warehouse, so please make sure you have SQL wharehouse ready!\n",
    "\n",
    "Credit for my knowledge on this topic goes to https://notebooks.databricks.com/demos/sql-ai-functions/index.html# \n",
    "\n",
    "You can download this from https://github.com/yogi-playground/Databricks/tree/main/Databricks%20AI%20Function "
   ]
  },
  {
   "cell_type": "markdown",
   "metadata": {
    "application/vnd.databricks.v1+cell": {
     "cellMetadata": {},
     "inputWidgets": {},
     "nuid": "6677b7fc-34a1-4053-894a-de15692de98a",
     "showTitle": false,
     "title": ""
    }
   },
   "source": [
    "Import required packages"
   ]
  },
  {
   "cell_type": "code",
   "execution_count": 0,
   "metadata": {
    "application/vnd.databricks.v1+cell": {
     "cellMetadata": {
      "byteLimit": 2048000,
      "rowLimit": 10000
     },
     "inputWidgets": {},
     "nuid": "f8f736f8-6d6c-43b8-b230-f405250a4cb4",
     "showTitle": false,
     "title": ""
    }
   },
   "outputs": [
    {
     "output_type": "stream",
     "name": "stdout",
     "output_type": "stream",
     "text": [
      "\u001B[43mNote: you may need to restart the kernel using dbutils.library.restartPython() to use updated packages.\u001B[0m\nCollecting dbdemos\n  Downloading dbdemos-0.5.3-py3-none-any.whl (35.9 MB)\n     ━━━━━━━━━━━━━━━━━━━━━━━━━━━━━━━━━━━━━━━━ 35.9/35.9 MB 21.9 MB/s eta 0:00:00\nRequirement already satisfied: pandas in /databricks/python3/lib/python3.10/site-packages (from dbdemos) (1.5.3)\nRequirement already satisfied: requests in /databricks/python3/lib/python3.10/site-packages (from dbdemos) (2.28.1)\nRequirement already satisfied: numpy>=1.21.0 in /databricks/python3/lib/python3.10/site-packages (from pandas->dbdemos) (1.23.5)\nRequirement already satisfied: python-dateutil>=2.8.1 in /databricks/python3/lib/python3.10/site-packages (from pandas->dbdemos) (2.8.2)\nRequirement already satisfied: pytz>=2020.1 in /databricks/python3/lib/python3.10/site-packages (from pandas->dbdemos) (2022.7)\nRequirement already satisfied: charset-normalizer<3,>=2 in /databricks/python3/lib/python3.10/site-packages (from requests->dbdemos) (2.0.4)\nRequirement already satisfied: certifi>=2017.4.17 in /databricks/python3/lib/python3.10/site-packages (from requests->dbdemos) (2022.12.7)\nRequirement already satisfied: idna<4,>=2.5 in /databricks/python3/lib/python3.10/site-packages (from requests->dbdemos) (3.4)\nRequirement already satisfied: urllib3<1.27,>=1.21.1 in /databricks/python3/lib/python3.10/site-packages (from requests->dbdemos) (1.26.14)\nRequirement already satisfied: six>=1.5 in /usr/lib/python3/dist-packages (from python-dateutil>=2.8.1->pandas->dbdemos) (1.16.0)\nInstalling collected packages: dbdemos\nSuccessfully installed dbdemos-0.5.3\n\u001B[43mNote: you may need to restart the kernel using dbutils.library.restartPython() to use updated packages.\u001B[0m\n"
     ]
    }
   ],
   "source": [
    "# Install the Databricks LLM AI functions module\n",
    "%pip install dbdemos"
   ]
  },
  {
   "cell_type": "code",
   "execution_count": 0,
   "metadata": {
    "application/vnd.databricks.v1+cell": {
     "cellMetadata": {
      "byteLimit": 2048000,
      "rowLimit": 10000
     },
     "inputWidgets": {},
     "nuid": "58cf04a6-6c9c-4d72-99d6-1e29376657e8",
     "showTitle": false,
     "title": ""
    }
   },
   "outputs": [
    {
     "output_type": "stream",
     "name": "stdout",
     "output_type": "stream",
     "text": [
      "Installing demo sql-ai-functions under /Shared/AMZ_Review, please wait...\nHelp us improving dbdemos, share your feedback or create an issue if something isn't working: https://github.com/databricks-demos/dbdemos\n"
     ]
    },
    {
     "output_type": "display_data",
     "data": {
      "text/html": [
       "\n",
       "    <style>\n",
       "    .dbdemos_install{\n",
       "                        font-family: -apple-system,BlinkMacSystemFont,Segoe UI,Roboto,Helvetica Neue,Arial,Noto Sans,sans-serif,Apple Color Emoji,Segoe UI Emoji,Segoe UI Symbol,Noto Color Emoji,FontAwesome;\n",
       "    color: #3b3b3b;\n",
       "    box-shadow: 0 .15rem 1.15rem 0 rgba(58,59,69,.15)!important;\n",
       "    padding: 10px 20px 20px 20px;\n",
       "    margin: 10px;\n",
       "    }\n",
       "    .dbdemos_block{\n",
       "        display: block !important;\n",
       "    }\n",
       "    .code {\n",
       "        padding: 5px;\n",
       "        border: 1px solid #e4e4e4;\n",
       "        font-family: monospace;\n",
       "        background-color: #f5f5f5;\n",
       "        margin: 5px 0px 0px 0px;\n",
       "        display: inline;\n",
       "    }\n",
       "    .subfolder {\n",
       "        padding-left: 30px;\n",
       "    }\n",
       "    .notebook {\n",
       "        margin-bottom: 3px;\n",
       "    }\n",
       "    .dbdemos_install a {\n",
       "        color: #3835a4;\n",
       "    }\n",
       "    .container_dbdemos {\n",
       "        padding-left: 20px;\n",
       "    }\n",
       "    .path_desc {\n",
       "        color: #928e9b;\n",
       "        font-style: oblique;\n",
       "    }\n",
       "    </style>\n",
       "                        <div class=\"dbdemos_install\"><h2 style=\"color: #4875c2\">Installation in progress...</h2>\n",
       "                            This demo supports custom UC schema! The default schema is main.dbdemos_ai_query.\n",
       "                To install it somewhere else, run <div class=\"code dbdemos_block\">dbdemos.install('sql-ai-functions', catalog='xxx', schema='xxx')</div><br/>\n",
       "                        </div>"
      ]
     },
     "metadata": {},
     "output_type": "display_data"
    },
    {
     "output_type": "display_data",
     "data": {
      "text/html": [
       "\n",
       "    <style>\n",
       "    .dbdemos_install{\n",
       "                        font-family: -apple-system,BlinkMacSystemFont,Segoe UI,Roboto,Helvetica Neue,Arial,Noto Sans,sans-serif,Apple Color Emoji,Segoe UI Emoji,Segoe UI Symbol,Noto Color Emoji,FontAwesome;\n",
       "    color: #3b3b3b;\n",
       "    box-shadow: 0 .15rem 1.15rem 0 rgba(58,59,69,.15)!important;\n",
       "    padding: 10px 20px 20px 20px;\n",
       "    margin: 10px;\n",
       "    }\n",
       "    .dbdemos_block{\n",
       "        display: block !important;\n",
       "    }\n",
       "    .code {\n",
       "        padding: 5px;\n",
       "        border: 1px solid #e4e4e4;\n",
       "        font-family: monospace;\n",
       "        background-color: #f5f5f5;\n",
       "        margin: 5px 0px 0px 0px;\n",
       "        display: inline;\n",
       "    }\n",
       "    .subfolder {\n",
       "        padding-left: 30px;\n",
       "    }\n",
       "    .notebook {\n",
       "        margin-bottom: 3px;\n",
       "    }\n",
       "    .dbdemos_install a {\n",
       "        color: #3835a4;\n",
       "    }\n",
       "    .container_dbdemos {\n",
       "        padding-left: 20px;\n",
       "    }\n",
       "    .path_desc {\n",
       "        color: #928e9b;\n",
       "        font-style: oblique;\n",
       "    }\n",
       "    </style><div class=\"dbdemos_install\">\n",
       "                      <h1 style=\"color: #eb0707\">Installation error: Folder /Shared/AMZ_Review/sql-ai-functions isn't empty.</h1> \n",
       "                        Please install demo with overwrite=True to replace the existing folder content under /Shared/AMZ_Review/sql-ai-functions:\n",
       "                                         <div class=\"code dbdemos_block\">dbdemos.install('sql-ai-functions', overwrite=True, path='/Shared/AMZ_Review/sql-ai-functions')</div><br/>\n",
       "                                         All content under /Shared/AMZ_Review/sql-ai-functions will be deleted.<br/><br/>\n",
       "                                         <strong>Details</strong><br/>\n",
       "                                         Folder list response: <div class=\"code dbdemos_block\">{\"object_type\": \"DIRECTORY\", \"path\": \"/Shared/AMZ_Review/sql-ai-functions\", \"object_id\": 2433721975265343, \"resource_id\": \"2433721975265343\"}</div>\n",
       "                      </div>"
      ]
     },
     "metadata": {},
     "output_type": "display_data"
    },
    {
     "output_type": "display_data",
     "data": {
      "text/plain": [
       "\u001B[0;31m---------------------------------------------------------------------------\u001B[0m\n",
       "\u001B[0;31mExistingResourceException\u001B[0m                 Traceback (most recent call last)\n",
       "File \u001B[0;32m<command-1174645211342129>, line 3\u001B[0m\n",
       "\u001B[1;32m      1\u001B[0m \u001B[38;5;66;03m#import and install databricks LLM AI funcation module dbdemos \u001B[39;00m\n",
       "\u001B[1;32m      2\u001B[0m \u001B[38;5;28;01mimport\u001B[39;00m \u001B[38;5;21;01mdbdemos\u001B[39;00m\n",
       "\u001B[0;32m----> 3\u001B[0m dbdemos\u001B[38;5;241m.\u001B[39minstall(\u001B[38;5;124m'\u001B[39m\u001B[38;5;124msql-ai-functions\u001B[39m\u001B[38;5;124m'\u001B[39m)\n",
       "\n",
       "File \u001B[0;32m/local_disk0/.ephemeral_nfs/envs/pythonEnv-aa7e71b1-ac65-4c71-9f14-22d891e24934/lib/python3.10/site-packages/dbdemos/dbdemos.py:225\u001B[0m, in \u001B[0;36minstall\u001B[0;34m(demo_name, path, overwrite, username, pat_token, workspace_url, skip_dashboards, cloud, start_cluster, use_current_cluster, current_cluster_id, install_dashboard_sequentially, debug, catalog, schema, serverless)\u001B[0m\n",
       "\u001B[1;32m    222\u001B[0m \u001B[38;5;28;01mif\u001B[39;00m \u001B[38;5;129;01mnot\u001B[39;00m installer\u001B[38;5;241m.\u001B[39mtest_premium_pricing():\n",
       "\u001B[1;32m    223\u001B[0m     \u001B[38;5;66;03m#Force dashboard skip as dbsql isn't available to avoid any error.\u001B[39;00m\n",
       "\u001B[1;32m    224\u001B[0m     skip_dashboards \u001B[38;5;241m=\u001B[39m \u001B[38;5;28;01mTrue\u001B[39;00m\n",
       "\u001B[0;32m--> 225\u001B[0m \u001B[43minstaller\u001B[49m\u001B[38;5;241;43m.\u001B[39;49m\u001B[43minstall_demo\u001B[49m\u001B[43m(\u001B[49m\u001B[43mdemo_name\u001B[49m\u001B[43m,\u001B[49m\u001B[43m \u001B[49m\u001B[43mpath\u001B[49m\u001B[43m,\u001B[49m\u001B[43m \u001B[49m\u001B[43moverwrite\u001B[49m\u001B[43m,\u001B[49m\u001B[43m \u001B[49m\u001B[43mskip_dashboards\u001B[49m\u001B[43m \u001B[49m\u001B[38;5;241;43m=\u001B[39;49m\u001B[43m \u001B[49m\u001B[43mskip_dashboards\u001B[49m\u001B[43m,\u001B[49m\u001B[43m \u001B[49m\u001B[43mstart_cluster\u001B[49m\u001B[43m \u001B[49m\u001B[38;5;241;43m=\u001B[39;49m\u001B[43m \u001B[49m\u001B[43mstart_cluster\u001B[49m\u001B[43m,\u001B[49m\u001B[43m \u001B[49m\u001B[43muse_current_cluster\u001B[49m\u001B[43m \u001B[49m\u001B[38;5;241;43m=\u001B[39;49m\u001B[43m \u001B[49m\u001B[43muse_current_cluster\u001B[49m\u001B[43m,\u001B[49m\u001B[43m \u001B[49m\u001B[43mdebug\u001B[49m\u001B[43m \u001B[49m\u001B[38;5;241;43m=\u001B[39;49m\u001B[43m \u001B[49m\u001B[43mdebug\u001B[49m\u001B[43m,\u001B[49m\u001B[43m \u001B[49m\u001B[43mcatalog\u001B[49m\u001B[43m \u001B[49m\u001B[38;5;241;43m=\u001B[39;49m\u001B[43m \u001B[49m\u001B[43mcatalog\u001B[49m\u001B[43m,\u001B[49m\u001B[43m \u001B[49m\u001B[43mschema\u001B[49m\u001B[43m \u001B[49m\u001B[38;5;241;43m=\u001B[39;49m\u001B[43m \u001B[49m\u001B[43mschema\u001B[49m\u001B[43m,\u001B[49m\u001B[43m \u001B[49m\u001B[43mserverless\u001B[49m\u001B[43m \u001B[49m\u001B[38;5;241;43m=\u001B[39;49m\u001B[43m \u001B[49m\u001B[43mserverless\u001B[49m\u001B[43m)\u001B[49m\n",
       "\n",
       "File \u001B[0;32m/local_disk0/.ephemeral_nfs/envs/pythonEnv-aa7e71b1-ac65-4c71-9f14-22d891e24934/lib/python3.10/site-packages/dbdemos/installer.py:260\u001B[0m, in \u001B[0;36mInstaller.install_demo\u001B[0;34m(self, demo_name, install_path, overwrite, update_cluster_if_exists, skip_dashboards, start_cluster, use_current_cluster, debug, catalog, schema, serverless)\u001B[0m\n",
       "\u001B[1;32m    258\u001B[0m     \u001B[38;5;28mself\u001B[39m\u001B[38;5;241m.\u001B[39mreport\u001B[38;5;241m.\u001B[39mdisplay_cluster_creation_warn(e, demo_conf)\n",
       "\u001B[1;32m    259\u001B[0m     cluster_name \u001B[38;5;241m=\u001B[39m \u001B[38;5;124m\"\u001B[39m\u001B[38;5;124mCurrent Cluster\u001B[39m\u001B[38;5;124m\"\u001B[39m\n",
       "\u001B[0;32m--> 260\u001B[0m \u001B[38;5;28;43mself\u001B[39;49m\u001B[38;5;241;43m.\u001B[39;49m\u001B[43mcheck_if_install_folder_exists\u001B[49m\u001B[43m(\u001B[49m\u001B[43mdemo_name\u001B[49m\u001B[43m,\u001B[49m\u001B[43m \u001B[49m\u001B[43minstall_path\u001B[49m\u001B[43m,\u001B[49m\u001B[43m \u001B[49m\u001B[43mdemo_conf\u001B[49m\u001B[43m,\u001B[49m\u001B[43m \u001B[49m\u001B[43moverwrite\u001B[49m\u001B[43m,\u001B[49m\u001B[43m \u001B[49m\u001B[43mdebug\u001B[49m\u001B[43m)\u001B[49m\n",
       "\u001B[1;32m    261\u001B[0m pipeline_ids \u001B[38;5;241m=\u001B[39m \u001B[38;5;28mself\u001B[39m\u001B[38;5;241m.\u001B[39mload_demo_pipelines(demo_name, demo_conf, debug, serverless)\n",
       "\u001B[1;32m    262\u001B[0m dashboards \u001B[38;5;241m=\u001B[39m [] \u001B[38;5;28;01mif\u001B[39;00m skip_dashboards \u001B[38;5;28;01melse\u001B[39;00m \u001B[38;5;28mself\u001B[39m\u001B[38;5;241m.\u001B[39minstall_dashboards(demo_conf, install_path, debug)\n",
       "\n",
       "File \u001B[0;32m/local_disk0/.ephemeral_nfs/envs/pythonEnv-aa7e71b1-ac65-4c71-9f14-22d891e24934/lib/python3.10/site-packages/dbdemos/installer.py:387\u001B[0m, in \u001B[0;36mInstaller.check_if_install_folder_exists\u001B[0;34m(self, demo_name, install_path, demo_conf, overwrite, debug)\u001B[0m\n",
       "\u001B[1;32m    385\u001B[0m \u001B[38;5;28;01mif\u001B[39;00m \u001B[38;5;124m'\u001B[39m\u001B[38;5;124mobject_type\u001B[39m\u001B[38;5;124m'\u001B[39m \u001B[38;5;129;01min\u001B[39;00m s:\n",
       "\u001B[1;32m    386\u001B[0m     \u001B[38;5;28;01mif\u001B[39;00m \u001B[38;5;129;01mnot\u001B[39;00m overwrite:\n",
       "\u001B[0;32m--> 387\u001B[0m         \u001B[38;5;28;43mself\u001B[39;49m\u001B[38;5;241;43m.\u001B[39;49m\u001B[43mreport\u001B[49m\u001B[38;5;241;43m.\u001B[39;49m\u001B[43mdisplay_folder_already_existing\u001B[49m\u001B[43m(\u001B[49m\u001B[43mExistingResourceException\u001B[49m\u001B[43m(\u001B[49m\u001B[43minstall_path\u001B[49m\u001B[43m,\u001B[49m\u001B[43m \u001B[49m\u001B[43ms\u001B[49m\u001B[43m)\u001B[49m\u001B[43m,\u001B[49m\u001B[43m \u001B[49m\u001B[43mdemo_conf\u001B[49m\u001B[43m)\u001B[49m\n",
       "\u001B[1;32m    388\u001B[0m     \u001B[38;5;28;01mif\u001B[39;00m debug:\n",
       "\u001B[1;32m    389\u001B[0m         \u001B[38;5;28mprint\u001B[39m(\u001B[38;5;124mf\u001B[39m\u001B[38;5;124m\"\u001B[39m\u001B[38;5;124m    Folder \u001B[39m\u001B[38;5;132;01m{\u001B[39;00minstall_path\u001B[38;5;132;01m}\u001B[39;00m\u001B[38;5;124m already exists. Deleting the existing content...\u001B[39m\u001B[38;5;124m\"\u001B[39m)\n",
       "\n",
       "File \u001B[0;32m/local_disk0/.ephemeral_nfs/envs/pythonEnv-aa7e71b1-ac65-4c71-9f14-22d891e24934/lib/python3.10/site-packages/dbdemos/installer_report.py:91\u001B[0m, in \u001B[0;36mInstallerReport.display_folder_already_existing\u001B[0;34m(self, exception, demo_conf)\u001B[0m\n",
       "\u001B[1;32m     90\u001B[0m \u001B[38;5;28;01mdef\u001B[39;00m \u001B[38;5;21mdisplay_folder_already_existing\u001B[39m(\u001B[38;5;28mself\u001B[39m, exception: ExistingResourceException, demo_conf: DemoConf):\n",
       "\u001B[0;32m---> 91\u001B[0m     \u001B[38;5;28;43mself\u001B[39;49m\u001B[38;5;241;43m.\u001B[39;49m\u001B[43mdisplay_error\u001B[49m\u001B[43m(\u001B[49m\u001B[43mexception\u001B[49m\u001B[43m,\u001B[49m\u001B[43m \u001B[49m\u001B[38;5;124;43mf\u001B[39;49m\u001B[38;5;124;43m\"\"\"\u001B[39;49m\u001B[38;5;124;43mPlease install demo with overwrite=True to replace the existing folder content under \u001B[39;49m\u001B[38;5;132;43;01m{\u001B[39;49;00m\u001B[43mexception\u001B[49m\u001B[38;5;241;43m.\u001B[39;49m\u001B[43minstall_path\u001B[49m\u001B[38;5;132;43;01m}\u001B[39;49;00m\u001B[38;5;124;43m:\u001B[39;49m\n",
       "\u001B[1;32m     92\u001B[0m \u001B[38;5;124;43m                                     <div class=\u001B[39;49m\u001B[38;5;124;43m\"\u001B[39;49m\u001B[38;5;124;43mcode dbdemos_block\u001B[39;49m\u001B[38;5;124;43m\"\u001B[39;49m\u001B[38;5;124;43m>dbdemos.install(\u001B[39;49m\u001B[38;5;124;43m'\u001B[39;49m\u001B[38;5;132;43;01m{\u001B[39;49;00m\u001B[43mdemo_conf\u001B[49m\u001B[38;5;241;43m.\u001B[39;49m\u001B[43mname\u001B[49m\u001B[38;5;132;43;01m}\u001B[39;49;00m\u001B[38;5;124;43m'\u001B[39;49m\u001B[38;5;124;43m, overwrite=True, path=\u001B[39;49m\u001B[38;5;124;43m'\u001B[39;49m\u001B[38;5;132;43;01m{\u001B[39;49;00m\u001B[43mexception\u001B[49m\u001B[38;5;241;43m.\u001B[39;49m\u001B[43minstall_path\u001B[49m\u001B[38;5;132;43;01m}\u001B[39;49;00m\u001B[38;5;124;43m'\u001B[39;49m\u001B[38;5;124;43m)</div><br/>\u001B[39;49m\n",
       "\u001B[1;32m     93\u001B[0m \u001B[38;5;124;43m                                     All content under \u001B[39;49m\u001B[38;5;132;43;01m{\u001B[39;49;00m\u001B[43mexception\u001B[49m\u001B[38;5;241;43m.\u001B[39;49m\u001B[43minstall_path\u001B[49m\u001B[38;5;132;43;01m}\u001B[39;49;00m\u001B[38;5;124;43m will be deleted.<br/><br/>\u001B[39;49m\n",
       "\u001B[1;32m     94\u001B[0m \u001B[38;5;124;43m                                     <strong>Details</strong><br/>\u001B[39;49m\n",
       "\u001B[1;32m     95\u001B[0m \u001B[38;5;124;43m                                     Folder list response: <div class=\u001B[39;49m\u001B[38;5;124;43m\"\u001B[39;49m\u001B[38;5;124;43mcode dbdemos_block\u001B[39;49m\u001B[38;5;124;43m\"\u001B[39;49m\u001B[38;5;124;43m>\u001B[39;49m\u001B[38;5;132;43;01m{\u001B[39;49;00m\u001B[43mjson\u001B[49m\u001B[38;5;241;43m.\u001B[39;49m\u001B[43mdumps\u001B[49m\u001B[43m(\u001B[49m\u001B[43mexception\u001B[49m\u001B[38;5;241;43m.\u001B[39;49m\u001B[43mresponse\u001B[49m\u001B[43m)\u001B[49m\u001B[38;5;132;43;01m}\u001B[39;49;00m\u001B[38;5;124;43m</div>\u001B[39;49m\u001B[38;5;124;43m\"\"\"\u001B[39;49m\u001B[43m)\u001B[49m\n",
       "\n",
       "File \u001B[0;32m/local_disk0/.ephemeral_nfs/envs/pythonEnv-aa7e71b1-ac65-4c71-9f14-22d891e24934/lib/python3.10/site-packages/dbdemos/installer_report.py:172\u001B[0m, in \u001B[0;36mInstallerReport.display_error\u001B[0;34m(self, exception, message, raise_error, warning)\u001B[0m\n",
       "\u001B[1;32m    170\u001B[0m     \u001B[38;5;28mprint\u001B[39m(error)\n",
       "\u001B[1;32m    171\u001B[0m \u001B[38;5;28;01mif\u001B[39;00m raise_error:\n",
       "\u001B[0;32m--> 172\u001B[0m     \u001B[38;5;28;01mraise\u001B[39;00m exception\n",
       "\n",
       "\u001B[0;31mExistingResourceException\u001B[0m: Folder /Shared/AMZ_Review/sql-ai-functions isn't empty."
      ]
     },
     "metadata": {
      "application/vnd.databricks.v1+output": {
       "addedWidgets": {},
       "arguments": {},
       "datasetInfos": [],
       "jupyterProps": {
        "ename": "ExistingResourceException",
        "evalue": "Folder /Shared/AMZ_Review/sql-ai-functions isn't empty."
       },
       "metadata": {
        "errorSummary": "<span class='ansi-red-fg'>ExistingResourceException</span>: Folder /Shared/AMZ_Review/sql-ai-functions isn't empty."
       },
       "removedWidgets": [],
       "sqlProps": null,
       "stackFrames": [
        "\u001B[0;31m---------------------------------------------------------------------------\u001B[0m",
        "\u001B[0;31mExistingResourceException\u001B[0m                 Traceback (most recent call last)",
        "File \u001B[0;32m<command-1174645211342129>, line 3\u001B[0m\n\u001B[1;32m      1\u001B[0m \u001B[38;5;66;03m#import and install databricks LLM AI funcation module dbdemos \u001B[39;00m\n\u001B[1;32m      2\u001B[0m \u001B[38;5;28;01mimport\u001B[39;00m \u001B[38;5;21;01mdbdemos\u001B[39;00m\n\u001B[0;32m----> 3\u001B[0m dbdemos\u001B[38;5;241m.\u001B[39minstall(\u001B[38;5;124m'\u001B[39m\u001B[38;5;124msql-ai-functions\u001B[39m\u001B[38;5;124m'\u001B[39m)\n",
        "File \u001B[0;32m/local_disk0/.ephemeral_nfs/envs/pythonEnv-aa7e71b1-ac65-4c71-9f14-22d891e24934/lib/python3.10/site-packages/dbdemos/dbdemos.py:225\u001B[0m, in \u001B[0;36minstall\u001B[0;34m(demo_name, path, overwrite, username, pat_token, workspace_url, skip_dashboards, cloud, start_cluster, use_current_cluster, current_cluster_id, install_dashboard_sequentially, debug, catalog, schema, serverless)\u001B[0m\n\u001B[1;32m    222\u001B[0m \u001B[38;5;28;01mif\u001B[39;00m \u001B[38;5;129;01mnot\u001B[39;00m installer\u001B[38;5;241m.\u001B[39mtest_premium_pricing():\n\u001B[1;32m    223\u001B[0m     \u001B[38;5;66;03m#Force dashboard skip as dbsql isn't available to avoid any error.\u001B[39;00m\n\u001B[1;32m    224\u001B[0m     skip_dashboards \u001B[38;5;241m=\u001B[39m \u001B[38;5;28;01mTrue\u001B[39;00m\n\u001B[0;32m--> 225\u001B[0m \u001B[43minstaller\u001B[49m\u001B[38;5;241;43m.\u001B[39;49m\u001B[43minstall_demo\u001B[49m\u001B[43m(\u001B[49m\u001B[43mdemo_name\u001B[49m\u001B[43m,\u001B[49m\u001B[43m \u001B[49m\u001B[43mpath\u001B[49m\u001B[43m,\u001B[49m\u001B[43m \u001B[49m\u001B[43moverwrite\u001B[49m\u001B[43m,\u001B[49m\u001B[43m \u001B[49m\u001B[43mskip_dashboards\u001B[49m\u001B[43m \u001B[49m\u001B[38;5;241;43m=\u001B[39;49m\u001B[43m \u001B[49m\u001B[43mskip_dashboards\u001B[49m\u001B[43m,\u001B[49m\u001B[43m \u001B[49m\u001B[43mstart_cluster\u001B[49m\u001B[43m \u001B[49m\u001B[38;5;241;43m=\u001B[39;49m\u001B[43m \u001B[49m\u001B[43mstart_cluster\u001B[49m\u001B[43m,\u001B[49m\u001B[43m \u001B[49m\u001B[43muse_current_cluster\u001B[49m\u001B[43m \u001B[49m\u001B[38;5;241;43m=\u001B[39;49m\u001B[43m \u001B[49m\u001B[43muse_current_cluster\u001B[49m\u001B[43m,\u001B[49m\u001B[43m \u001B[49m\u001B[43mdebug\u001B[49m\u001B[43m \u001B[49m\u001B[38;5;241;43m=\u001B[39;49m\u001B[43m \u001B[49m\u001B[43mdebug\u001B[49m\u001B[43m,\u001B[49m\u001B[43m \u001B[49m\u001B[43mcatalog\u001B[49m\u001B[43m \u001B[49m\u001B[38;5;241;43m=\u001B[39;49m\u001B[43m \u001B[49m\u001B[43mcatalog\u001B[49m\u001B[43m,\u001B[49m\u001B[43m \u001B[49m\u001B[43mschema\u001B[49m\u001B[43m \u001B[49m\u001B[38;5;241;43m=\u001B[39;49m\u001B[43m \u001B[49m\u001B[43mschema\u001B[49m\u001B[43m,\u001B[49m\u001B[43m \u001B[49m\u001B[43mserverless\u001B[49m\u001B[43m \u001B[49m\u001B[38;5;241;43m=\u001B[39;49m\u001B[43m \u001B[49m\u001B[43mserverless\u001B[49m\u001B[43m)\u001B[49m\n",
        "File \u001B[0;32m/local_disk0/.ephemeral_nfs/envs/pythonEnv-aa7e71b1-ac65-4c71-9f14-22d891e24934/lib/python3.10/site-packages/dbdemos/installer.py:260\u001B[0m, in \u001B[0;36mInstaller.install_demo\u001B[0;34m(self, demo_name, install_path, overwrite, update_cluster_if_exists, skip_dashboards, start_cluster, use_current_cluster, debug, catalog, schema, serverless)\u001B[0m\n\u001B[1;32m    258\u001B[0m     \u001B[38;5;28mself\u001B[39m\u001B[38;5;241m.\u001B[39mreport\u001B[38;5;241m.\u001B[39mdisplay_cluster_creation_warn(e, demo_conf)\n\u001B[1;32m    259\u001B[0m     cluster_name \u001B[38;5;241m=\u001B[39m \u001B[38;5;124m\"\u001B[39m\u001B[38;5;124mCurrent Cluster\u001B[39m\u001B[38;5;124m\"\u001B[39m\n\u001B[0;32m--> 260\u001B[0m \u001B[38;5;28;43mself\u001B[39;49m\u001B[38;5;241;43m.\u001B[39;49m\u001B[43mcheck_if_install_folder_exists\u001B[49m\u001B[43m(\u001B[49m\u001B[43mdemo_name\u001B[49m\u001B[43m,\u001B[49m\u001B[43m \u001B[49m\u001B[43minstall_path\u001B[49m\u001B[43m,\u001B[49m\u001B[43m \u001B[49m\u001B[43mdemo_conf\u001B[49m\u001B[43m,\u001B[49m\u001B[43m \u001B[49m\u001B[43moverwrite\u001B[49m\u001B[43m,\u001B[49m\u001B[43m \u001B[49m\u001B[43mdebug\u001B[49m\u001B[43m)\u001B[49m\n\u001B[1;32m    261\u001B[0m pipeline_ids \u001B[38;5;241m=\u001B[39m \u001B[38;5;28mself\u001B[39m\u001B[38;5;241m.\u001B[39mload_demo_pipelines(demo_name, demo_conf, debug, serverless)\n\u001B[1;32m    262\u001B[0m dashboards \u001B[38;5;241m=\u001B[39m [] \u001B[38;5;28;01mif\u001B[39;00m skip_dashboards \u001B[38;5;28;01melse\u001B[39;00m \u001B[38;5;28mself\u001B[39m\u001B[38;5;241m.\u001B[39minstall_dashboards(demo_conf, install_path, debug)\n",
        "File \u001B[0;32m/local_disk0/.ephemeral_nfs/envs/pythonEnv-aa7e71b1-ac65-4c71-9f14-22d891e24934/lib/python3.10/site-packages/dbdemos/installer.py:387\u001B[0m, in \u001B[0;36mInstaller.check_if_install_folder_exists\u001B[0;34m(self, demo_name, install_path, demo_conf, overwrite, debug)\u001B[0m\n\u001B[1;32m    385\u001B[0m \u001B[38;5;28;01mif\u001B[39;00m \u001B[38;5;124m'\u001B[39m\u001B[38;5;124mobject_type\u001B[39m\u001B[38;5;124m'\u001B[39m \u001B[38;5;129;01min\u001B[39;00m s:\n\u001B[1;32m    386\u001B[0m     \u001B[38;5;28;01mif\u001B[39;00m \u001B[38;5;129;01mnot\u001B[39;00m overwrite:\n\u001B[0;32m--> 387\u001B[0m         \u001B[38;5;28;43mself\u001B[39;49m\u001B[38;5;241;43m.\u001B[39;49m\u001B[43mreport\u001B[49m\u001B[38;5;241;43m.\u001B[39;49m\u001B[43mdisplay_folder_already_existing\u001B[49m\u001B[43m(\u001B[49m\u001B[43mExistingResourceException\u001B[49m\u001B[43m(\u001B[49m\u001B[43minstall_path\u001B[49m\u001B[43m,\u001B[49m\u001B[43m \u001B[49m\u001B[43ms\u001B[49m\u001B[43m)\u001B[49m\u001B[43m,\u001B[49m\u001B[43m \u001B[49m\u001B[43mdemo_conf\u001B[49m\u001B[43m)\u001B[49m\n\u001B[1;32m    388\u001B[0m     \u001B[38;5;28;01mif\u001B[39;00m debug:\n\u001B[1;32m    389\u001B[0m         \u001B[38;5;28mprint\u001B[39m(\u001B[38;5;124mf\u001B[39m\u001B[38;5;124m\"\u001B[39m\u001B[38;5;124m    Folder \u001B[39m\u001B[38;5;132;01m{\u001B[39;00minstall_path\u001B[38;5;132;01m}\u001B[39;00m\u001B[38;5;124m already exists. Deleting the existing content...\u001B[39m\u001B[38;5;124m\"\u001B[39m)\n",
        "File \u001B[0;32m/local_disk0/.ephemeral_nfs/envs/pythonEnv-aa7e71b1-ac65-4c71-9f14-22d891e24934/lib/python3.10/site-packages/dbdemos/installer_report.py:91\u001B[0m, in \u001B[0;36mInstallerReport.display_folder_already_existing\u001B[0;34m(self, exception, demo_conf)\u001B[0m\n\u001B[1;32m     90\u001B[0m \u001B[38;5;28;01mdef\u001B[39;00m \u001B[38;5;21mdisplay_folder_already_existing\u001B[39m(\u001B[38;5;28mself\u001B[39m, exception: ExistingResourceException, demo_conf: DemoConf):\n\u001B[0;32m---> 91\u001B[0m     \u001B[38;5;28;43mself\u001B[39;49m\u001B[38;5;241;43m.\u001B[39;49m\u001B[43mdisplay_error\u001B[49m\u001B[43m(\u001B[49m\u001B[43mexception\u001B[49m\u001B[43m,\u001B[49m\u001B[43m \u001B[49m\u001B[38;5;124;43mf\u001B[39;49m\u001B[38;5;124;43m\"\"\"\u001B[39;49m\u001B[38;5;124;43mPlease install demo with overwrite=True to replace the existing folder content under \u001B[39;49m\u001B[38;5;132;43;01m{\u001B[39;49;00m\u001B[43mexception\u001B[49m\u001B[38;5;241;43m.\u001B[39;49m\u001B[43minstall_path\u001B[49m\u001B[38;5;132;43;01m}\u001B[39;49;00m\u001B[38;5;124;43m:\u001B[39;49m\n\u001B[1;32m     92\u001B[0m \u001B[38;5;124;43m                                     <div class=\u001B[39;49m\u001B[38;5;124;43m\"\u001B[39;49m\u001B[38;5;124;43mcode dbdemos_block\u001B[39;49m\u001B[38;5;124;43m\"\u001B[39;49m\u001B[38;5;124;43m>dbdemos.install(\u001B[39;49m\u001B[38;5;124;43m'\u001B[39;49m\u001B[38;5;132;43;01m{\u001B[39;49;00m\u001B[43mdemo_conf\u001B[49m\u001B[38;5;241;43m.\u001B[39;49m\u001B[43mname\u001B[49m\u001B[38;5;132;43;01m}\u001B[39;49;00m\u001B[38;5;124;43m'\u001B[39;49m\u001B[38;5;124;43m, overwrite=True, path=\u001B[39;49m\u001B[38;5;124;43m'\u001B[39;49m\u001B[38;5;132;43;01m{\u001B[39;49;00m\u001B[43mexception\u001B[49m\u001B[38;5;241;43m.\u001B[39;49m\u001B[43minstall_path\u001B[49m\u001B[38;5;132;43;01m}\u001B[39;49;00m\u001B[38;5;124;43m'\u001B[39;49m\u001B[38;5;124;43m)</div><br/>\u001B[39;49m\n\u001B[1;32m     93\u001B[0m \u001B[38;5;124;43m                                     All content under \u001B[39;49m\u001B[38;5;132;43;01m{\u001B[39;49;00m\u001B[43mexception\u001B[49m\u001B[38;5;241;43m.\u001B[39;49m\u001B[43minstall_path\u001B[49m\u001B[38;5;132;43;01m}\u001B[39;49;00m\u001B[38;5;124;43m will be deleted.<br/><br/>\u001B[39;49m\n\u001B[1;32m     94\u001B[0m \u001B[38;5;124;43m                                     <strong>Details</strong><br/>\u001B[39;49m\n\u001B[1;32m     95\u001B[0m \u001B[38;5;124;43m                                     Folder list response: <div class=\u001B[39;49m\u001B[38;5;124;43m\"\u001B[39;49m\u001B[38;5;124;43mcode dbdemos_block\u001B[39;49m\u001B[38;5;124;43m\"\u001B[39;49m\u001B[38;5;124;43m>\u001B[39;49m\u001B[38;5;132;43;01m{\u001B[39;49;00m\u001B[43mjson\u001B[49m\u001B[38;5;241;43m.\u001B[39;49m\u001B[43mdumps\u001B[49m\u001B[43m(\u001B[49m\u001B[43mexception\u001B[49m\u001B[38;5;241;43m.\u001B[39;49m\u001B[43mresponse\u001B[49m\u001B[43m)\u001B[49m\u001B[38;5;132;43;01m}\u001B[39;49;00m\u001B[38;5;124;43m</div>\u001B[39;49m\u001B[38;5;124;43m\"\"\"\u001B[39;49m\u001B[43m)\u001B[49m\n",
        "File \u001B[0;32m/local_disk0/.ephemeral_nfs/envs/pythonEnv-aa7e71b1-ac65-4c71-9f14-22d891e24934/lib/python3.10/site-packages/dbdemos/installer_report.py:172\u001B[0m, in \u001B[0;36mInstallerReport.display_error\u001B[0;34m(self, exception, message, raise_error, warning)\u001B[0m\n\u001B[1;32m    170\u001B[0m     \u001B[38;5;28mprint\u001B[39m(error)\n\u001B[1;32m    171\u001B[0m \u001B[38;5;28;01mif\u001B[39;00m raise_error:\n\u001B[0;32m--> 172\u001B[0m     \u001B[38;5;28;01mraise\u001B[39;00m exception\n",
        "\u001B[0;31mExistingResourceException\u001B[0m: Folder /Shared/AMZ_Review/sql-ai-functions isn't empty."
       ],
       "type": "baseError"
      }
     },
     "output_type": "display_data"
    }
   ],
   "source": [
    "#import and install databricks LLM AI funcation module dbdemos \n",
    "import dbdemos\n",
    "dbdemos.install('sql-ai-functions')"
   ]
  },
  {
   "cell_type": "markdown",
   "metadata": {
    "application/vnd.databricks.v1+cell": {
     "cellMetadata": {},
     "inputWidgets": {},
     "nuid": "1fd7d8c3-fa5f-46fb-800e-5d32aace1922",
     "showTitle": false,
     "title": ""
    }
   },
   "source": [
    "### Using a SQL Warehouse to run this demo\n",
    "### \n",
    "This demo runs using a SQL Warehouse!\n",
    "\n",
    "Make sure you select one using the dropdown on the top right of your notebook (don't select a classic compute/cluster)"
   ]
  },
  {
   "cell_type": "code",
   "execution_count": 0,
   "metadata": {
    "application/vnd.databricks.v1+cell": {
     "cellMetadata": {
      "byteLimit": 2048000,
      "implicitDf": true,
      "rowLimit": 10000
     },
     "inputWidgets": {},
     "nuid": "71495032-6b5a-4422-822d-f35ed03de3fa",
     "showTitle": false,
     "title": ""
    }
   },
   "outputs": [
    {
     "output_type": "display_data",
     "data": {
      "text/html": [
       "<style scoped>\n",
       "  .table-result-container {\n",
       "    max-height: 300px;\n",
       "    overflow: auto;\n",
       "  }\n",
       "  table, th, td {\n",
       "    border: 1px solid black;\n",
       "    border-collapse: collapse;\n",
       "  }\n",
       "  th, td {\n",
       "    padding: 5px;\n",
       "  }\n",
       "  th {\n",
       "    text-align: left;\n",
       "  }\n",
       "</style><div class='table-result-container'><table class='table-result'><thead style='background-color: white'><tr><th>assert_true((current_version().dbsql_version IS NOT NULL), YOU MUST USE A SQL WAREHOUSE, not a cluster)</th></tr></thead><tbody><tr><td>null</td></tr></tbody></table></div>"
      ]
     },
     "metadata": {
      "application/vnd.databricks.v1+output": {
       "addedWidgets": {},
       "aggData": [],
       "aggError": "",
       "aggOverflow": false,
       "aggSchema": [],
       "aggSeriesLimitReached": false,
       "aggType": "",
       "arguments": {},
       "columnCustomDisplayInfos": {},
       "data": [
        [
         null
        ]
       ],
       "datasetInfos": [],
       "dbfsResultPath": null,
       "isJsonSchema": true,
       "metadata": {},
       "overflow": false,
       "plotOptions": {
        "customPlotOptions": {},
        "displayType": "table",
        "pivotAggregation": null,
        "pivotColumns": null,
        "xColumns": null,
        "yColumns": null
       },
       "removedWidgets": [],
       "schema": [
        {
         "metadata": "{}",
         "name": "assert_true((current_version().dbsql_version IS NOT NULL), YOU MUST USE A SQL WAREHOUSE, not a cluster)",
         "type": "\"null\""
        }
       ],
       "type": "table"
      }
     },
     "output_type": "display_data"
    }
   ],
   "source": [
    "%sql\n",
    "-- verify that we're running on a SQL Warehouse\n",
    "SELECT assert_true(current_version().dbsql_version is not null, 'YOU MUST USE A SQL WAREHOUSE, not a cluster');"
   ]
  },
  {
   "cell_type": "code",
   "execution_count": 0,
   "metadata": {
    "application/vnd.databricks.v1+cell": {
     "cellMetadata": {
      "byteLimit": 2048000,
      "rowLimit": 10000
     },
     "inputWidgets": {},
     "nuid": "e6907bb1-1ffb-4b39-bbe9-ad8a0977bdea",
     "showTitle": false,
     "title": ""
    }
   },
   "outputs": [
    {
     "output_type": "display_data",
     "data": {
      "text/html": [
       "<style scoped>\n",
       "  .table-result-container {\n",
       "    max-height: 300px;\n",
       "    overflow: auto;\n",
       "  }\n",
       "  table, th, td {\n",
       "    border: 1px solid black;\n",
       "    border-collapse: collapse;\n",
       "  }\n",
       "  th, td {\n",
       "    padding: 5px;\n",
       "  }\n",
       "  th {\n",
       "    text-align: left;\n",
       "  }\n",
       "</style><div class='table-result-container'><table class='table-result'><thead style='background-color: white'><tr><th>ai_gen(Generate a concise, cheerful email title for a summer bike sale with 20% discount)</th></tr></thead><tbody><tr><td>🎉 Summer Bike Sale: Grab Your Dream Bike at 20% Off! 🚲☀️</td></tr></tbody></table></div>"
      ]
     },
     "metadata": {
      "application/vnd.databricks.v1+output": {
       "addedWidgets": {},
       "aggData": [],
       "aggError": "",
       "aggOverflow": false,
       "aggSchema": [],
       "aggSeriesLimitReached": false,
       "aggType": "",
       "arguments": {},
       "columnCustomDisplayInfos": {},
       "data": [
        [
         "🎉 Summer Bike Sale: Grab Your Dream Bike at 20% Off! 🚲☀️"
        ]
       ],
       "datasetInfos": [],
       "dbfsResultPath": null,
       "isJsonSchema": true,
       "metadata": {},
       "overflow": false,
       "plotOptions": {
        "customPlotOptions": {},
        "displayType": "table",
        "pivotAggregation": null,
        "pivotColumns": null,
        "xColumns": null,
        "yColumns": null
       },
       "removedWidgets": [],
       "schema": [
        {
         "metadata": "{}",
         "name": "ai_gen(Generate a concise, cheerful email title for a summer bike sale with 20% discount)",
         "type": "\"string\""
        }
       ],
       "type": "table"
      }
     },
     "output_type": "display_data"
    }
   ],
   "source": [
    "%sql\n",
    "-- Verify Gen AI installation completed sucessfully and work as expected, you can use this line to test your installation same as you use chatGPT or any LLM application. \n",
    "SELECT ai_gen('Generate a concise, cheerful email title for a summer bike sale with 20% discount');"
   ]
  },
  {
   "cell_type": "markdown",
   "metadata": {
    "application/vnd.databricks.v1+cell": {
     "cellMetadata": {},
     "inputWidgets": {},
     "nuid": "0dee3935-b88b-4e4a-9695-01f51546d824",
     "showTitle": false,
     "title": ""
    }
   },
   "source": [
    "### 1. **ai_analyze_sentiment:** \n",
    "Analyzes the sentiment of a given text, determining whether the expressed opinion is positive, negative, or neutral.\n",
    "\n",
    "  Eample 1\n",
    "   - Input: \"I love the new features in the latest software update! It's so user-friendly and efficient.\"\n",
    "   - Output: \"Positive\"\n",
    "   \n",
    "  Eample 2\n",
    "   - Input: \"After installing update, PC starting slow.\"\n",
    "   - Output: \"Negative\""
   ]
  },
  {
   "cell_type": "code",
   "execution_count": 0,
   "metadata": {
    "application/vnd.databricks.v1+cell": {
     "cellMetadata": {
      "byteLimit": 2048000,
      "rowLimit": 10000
     },
     "inputWidgets": {},
     "nuid": "ab46a2c3-8d48-4ee5-8f3f-aa6bf1ee9ee1",
     "showTitle": false,
     "title": ""
    }
   },
   "outputs": [
    {
     "output_type": "display_data",
     "data": {
      "text/html": [
       "<style scoped>\n",
       "  .table-result-container {\n",
       "    max-height: 300px;\n",
       "    overflow: auto;\n",
       "  }\n",
       "  table, th, td {\n",
       "    border: 1px solid black;\n",
       "    border-collapse: collapse;\n",
       "  }\n",
       "  th, td {\n",
       "    padding: 5px;\n",
       "  }\n",
       "  th {\n",
       "    text-align: left;\n",
       "  }\n",
       "</style><div class='table-result-container'><table class='table-result'><thead style='background-color: white'><tr><th>ai_analyze_sentiment(I love the new features in the latest software update! It's so user-friendly and efficient but my system is slow now.)</th></tr></thead><tbody><tr><td>mixed</td></tr></tbody></table></div>"
      ]
     },
     "metadata": {
      "application/vnd.databricks.v1+output": {
       "addedWidgets": {},
       "aggData": [],
       "aggError": "",
       "aggOverflow": false,
       "aggSchema": [],
       "aggSeriesLimitReached": false,
       "aggType": "",
       "arguments": {},
       "columnCustomDisplayInfos": {},
       "data": [
        [
         "mixed"
        ]
       ],
       "datasetInfos": [],
       "dbfsResultPath": null,
       "isJsonSchema": true,
       "metadata": {},
       "overflow": false,
       "plotOptions": {
        "customPlotOptions": {},
        "displayType": "table",
        "pivotAggregation": null,
        "pivotColumns": null,
        "xColumns": null,
        "yColumns": null
       },
       "removedWidgets": [],
       "schema": [
        {
         "metadata": "{}",
         "name": "ai_analyze_sentiment(I love the new features in the latest software update! It's so user-friendly and efficient but my system is slow now.)",
         "type": "\"string\""
        }
       ],
       "type": "table"
      }
     },
     "output_type": "display_data"
    }
   ],
   "source": [
    "%sql\n",
    "select ai_analyze_sentiment(\"I love the new features in the latest software update! It's so user-friendly and efficient.\")"
   ]
  },
  {
   "cell_type": "markdown",
   "metadata": {
    "application/vnd.databricks.v1+cell": {
     "cellMetadata": {},
     "inputWidgets": {},
     "nuid": "d8127634-03b7-4491-a604-1a70b1ea5243",
     "showTitle": false,
     "title": ""
    }
   },
   "source": [
    "### 2. ai_classify: \n",
    "Categorizes text or data into predefined classes or labels based on its content\n",
    "**ai_classify**:\n",
    "   - Input: \"This email is regarding the annual budget meeting.\"\n",
    "   - Output: \"Category: Business Communication\""
   ]
  },
  {
   "cell_type": "code",
   "execution_count": 0,
   "metadata": {
    "application/vnd.databricks.v1+cell": {
     "cellMetadata": {
      "byteLimit": 2048000,
      "rowLimit": 10000
     },
     "inputWidgets": {},
     "nuid": "6544f3a1-23b8-4936-a87c-6ed4a1f42b24",
     "showTitle": false,
     "title": ""
    }
   },
   "outputs": [
    {
     "output_type": "display_data",
     "data": {
      "text/html": [
       "<style scoped>\n",
       "  .table-result-container {\n",
       "    max-height: 300px;\n",
       "    overflow: auto;\n",
       "  }\n",
       "  table, th, td {\n",
       "    border: 1px solid black;\n",
       "    border-collapse: collapse;\n",
       "  }\n",
       "  th, td {\n",
       "    padding: 5px;\n",
       "  }\n",
       "  th {\n",
       "    text-align: left;\n",
       "  }\n",
       "</style><div class='table-result-container'><table class='table-result'><thead style='background-color: white'><tr><th>ai_classify(My password is leaked., array(urgent, not urgent))</th></tr></thead><tbody><tr><td>urgent</td></tr></tbody></table></div>"
      ]
     },
     "metadata": {
      "application/vnd.databricks.v1+output": {
       "addedWidgets": {},
       "aggData": [],
       "aggError": "",
       "aggOverflow": false,
       "aggSchema": [],
       "aggSeriesLimitReached": false,
       "aggType": "",
       "arguments": {},
       "columnCustomDisplayInfos": {},
       "data": [
        [
         "urgent"
        ]
       ],
       "datasetInfos": [],
       "dbfsResultPath": null,
       "isJsonSchema": true,
       "metadata": {},
       "overflow": false,
       "plotOptions": {
        "customPlotOptions": {},
        "displayType": "table",
        "pivotAggregation": null,
        "pivotColumns": null,
        "xColumns": null,
        "yColumns": null
       },
       "removedWidgets": [],
       "schema": [
        {
         "metadata": "{}",
         "name": "ai_classify(My password is leaked., array(urgent, not urgent))",
         "type": "\"string\""
        }
       ],
       "type": "table"
      }
     },
     "output_type": "display_data"
    }
   ],
   "source": [
    "%sql\n",
    "SELECT ai_classify(\"My password is leaked.\", ARRAY(\"urgent\", \"not urgent\"));"
   ]
  },
  {
   "cell_type": "markdown",
   "metadata": {
    "application/vnd.databricks.v1+cell": {
     "cellMetadata": {},
     "inputWidgets": {},
     "nuid": "d3c64260-c09e-4673-9f7d-4701b766f2e4",
     "showTitle": false,
     "title": ""
    }
   },
   "source": [
    "### 3. ai_extract: \n",
    "Extracts specific information, such as entities, keywords, or other relevant data, from a given text.\n",
    "\n",
    "Eample:\n",
    "  - Input: \"John Doe will be attending the conference in New York on September 12th.\"\n",
    "  - Output: \"Entities: [Name: John Doe, Event: conference, Location: New York, Date: September 12th]\""
   ]
  },
  {
   "cell_type": "code",
   "execution_count": 0,
   "metadata": {
    "application/vnd.databricks.v1+cell": {
     "cellMetadata": {
      "byteLimit": 2048000,
      "rowLimit": 10000
     },
     "inputWidgets": {},
     "nuid": "67015cd2-ff65-47ff-b5a6-58f80a7e4843",
     "showTitle": false,
     "title": ""
    }
   },
   "outputs": [
    {
     "output_type": "display_data",
     "data": {
      "text/html": [
       "<style scoped>\n",
       "  .table-result-container {\n",
       "    max-height: 300px;\n",
       "    overflow: auto;\n",
       "  }\n",
       "  table, th, td {\n",
       "    border: 1px solid black;\n",
       "    border-collapse: collapse;\n",
       "  }\n",
       "  th, td {\n",
       "    padding: 5px;\n",
       "  }\n",
       "  th {\n",
       "    text-align: left;\n",
       "  }\n",
       "</style><div class='table-result-container'><table class='table-result'><thead style='background-color: white'><tr><th>ai_extract(John Doe lives in New York and works for Acme Corp., array(person, location, organization))</th></tr></thead><tbody><tr><td>Map(person -> John Doe, location -> New York, organization -> Acme Corp)</td></tr></tbody></table></div>"
      ]
     },
     "metadata": {
      "application/vnd.databricks.v1+output": {
       "addedWidgets": {},
       "aggData": [],
       "aggError": "",
       "aggOverflow": false,
       "aggSchema": [],
       "aggSeriesLimitReached": false,
       "aggType": "",
       "arguments": {},
       "columnCustomDisplayInfos": {},
       "data": [
        [
         {
          "location": "New York",
          "organization": "Acme Corp",
          "person": "John Doe"
         }
        ]
       ],
       "datasetInfos": [],
       "dbfsResultPath": null,
       "isJsonSchema": true,
       "metadata": {},
       "overflow": false,
       "plotOptions": {
        "customPlotOptions": {},
        "displayType": "table",
        "pivotAggregation": null,
        "pivotColumns": null,
        "xColumns": null,
        "yColumns": null
       },
       "removedWidgets": [],
       "schema": [
        {
         "metadata": "{}",
         "name": "ai_extract(John Doe lives in New York and works for Acme Corp., array(person, location, organization))",
         "type": "{\"type\":\"map\",\"keyType\":\"\",\"valueType\":\"\"}"
        }
       ],
       "type": "table"
      }
     },
     "output_type": "display_data"
    },
    {
     "output_type": "display_data",
     "data": {
      "text/html": [
       "<style scoped>\n",
       "  .table-result-container {\n",
       "    max-height: 300px;\n",
       "    overflow: auto;\n",
       "  }\n",
       "  table, th, td {\n",
       "    border: 1px solid black;\n",
       "    border-collapse: collapse;\n",
       "  }\n",
       "  th, td {\n",
       "    padding: 5px;\n",
       "  }\n",
       "  th {\n",
       "    text-align: left;\n",
       "  }\n",
       "</style><div class='table-result-container'><table class='table-result'><thead style='background-color: white'><tr><th>ai_extract(Send an email to jane.doe@example.com about the meeting at 10am., array(email, time))</th></tr></thead><tbody><tr><td>Map(email -> jane.doe@example.com, time -> 10am)</td></tr></tbody></table></div>"
      ]
     },
     "metadata": {
      "application/vnd.databricks.v1+output": {
       "addedWidgets": {},
       "aggData": [],
       "aggError": "",
       "aggOverflow": false,
       "aggSchema": [],
       "aggSeriesLimitReached": false,
       "aggType": "",
       "arguments": {},
       "columnCustomDisplayInfos": {},
       "data": [
        [
         {
          "email": "jane.doe@example.com",
          "time": "10am"
         }
        ]
       ],
       "datasetInfos": [],
       "dbfsResultPath": null,
       "isJsonSchema": true,
       "metadata": {},
       "overflow": false,
       "plotOptions": {
        "customPlotOptions": {},
        "displayType": "table",
        "pivotAggregation": null,
        "pivotColumns": null,
        "xColumns": null,
        "yColumns": null
       },
       "removedWidgets": [],
       "schema": [
        {
         "metadata": "{}",
         "name": "ai_extract(Send an email to jane.doe@example.com about the meeting at 10am., array(email, time))",
         "type": "{\"type\":\"map\",\"keyType\":\"\",\"valueType\":\"\"}"
        }
       ],
       "type": "table"
      }
     },
     "output_type": "display_data"
    }
   ],
   "source": [
    "%sql\n",
    " SELECT ai_extract(\n",
    "    'John Doe lives in New York and works for Acme Corp.',\n",
    "    array('person', 'location', 'organization')\n",
    "  );\n",
    "  SELECT ai_extract(\n",
    "    'Send an email to jane.doe@example.com about the meeting at 10am.',\n",
    "    array('email', 'time')\n",
    "  );"
   ]
  },
  {
   "cell_type": "markdown",
   "metadata": {
    "application/vnd.databricks.v1+cell": {
     "cellMetadata": {},
     "inputWidgets": {},
     "nuid": "568b4f01-d02c-48b8-8354-29def840ad84",
     "showTitle": false,
     "title": ""
    }
   },
   "source": [
    "### 4. ai_fix_grammar: \n",
    "Identifies and corrects grammatical errors in a text, ensuring proper syntax and language usage.\n",
    "\n",
    "Eample:\n",
    "  - Input: \"He dont like to eat vegetables.\"\n",
    "  - Output: \"He doesn't like to eat vegetables.\""
   ]
  },
  {
   "cell_type": "code",
   "execution_count": 0,
   "metadata": {
    "application/vnd.databricks.v1+cell": {
     "cellMetadata": {
      "byteLimit": 2048000,
      "rowLimit": 10000
     },
     "inputWidgets": {},
     "nuid": "38177870-8760-48e6-ba42-b2a6369849ce",
     "showTitle": false,
     "title": ""
    }
   },
   "outputs": [
    {
     "output_type": "display_data",
     "data": {
      "text/html": [
       "<style scoped>\n",
       "  .table-result-container {\n",
       "    max-height: 300px;\n",
       "    overflow: auto;\n",
       "  }\n",
       "  table, th, td {\n",
       "    border: 1px solid black;\n",
       "    border-collapse: collapse;\n",
       "  }\n",
       "  th, td {\n",
       "    padding: 5px;\n",
       "  }\n",
       "  th {\n",
       "    text-align: left;\n",
       "  }\n",
       "</style><div class='table-result-container'><table class='table-result'><thead style='background-color: white'><tr><th>ai_fix_grammar(He dont like to eat vegetables)</th></tr></thead><tbody><tr><td>He doesn't like to eat vegetables</td></tr></tbody></table></div>"
      ]
     },
     "metadata": {
      "application/vnd.databricks.v1+output": {
       "addedWidgets": {},
       "aggData": [],
       "aggError": "",
       "aggOverflow": false,
       "aggSchema": [],
       "aggSeriesLimitReached": false,
       "aggType": "",
       "arguments": {},
       "columnCustomDisplayInfos": {},
       "data": [
        [
         "He doesn't like to eat vegetables"
        ]
       ],
       "datasetInfos": [],
       "dbfsResultPath": null,
       "isJsonSchema": true,
       "metadata": {},
       "overflow": false,
       "plotOptions": {
        "customPlotOptions": {},
        "displayType": "table",
        "pivotAggregation": null,
        "pivotColumns": null,
        "xColumns": null,
        "yColumns": null
       },
       "removedWidgets": [],
       "schema": [
        {
         "metadata": "{}",
         "name": "ai_fix_grammar(He dont like to eat vegetables)",
         "type": "\"string\""
        }
       ],
       "type": "table"
      }
     },
     "output_type": "display_data"
    }
   ],
   "source": [
    "%sql\n",
    "SELECT ai_fix_grammar('He dont like to eat vegetables');"
   ]
  },
  {
   "cell_type": "code",
   "execution_count": 0,
   "metadata": {
    "application/vnd.databricks.v1+cell": {
     "cellMetadata": {
      "byteLimit": 2048000,
      "rowLimit": 10000
     },
     "inputWidgets": {},
     "nuid": "4d4bdf44-7905-47cf-885a-c4db5f8a330f",
     "showTitle": false,
     "title": ""
    }
   },
   "outputs": [
    {
     "output_type": "display_data",
     "data": {
      "text/html": [
       "<style scoped>\n",
       "  .table-result-container {\n",
       "    max-height: 300px;\n",
       "    overflow: auto;\n",
       "  }\n",
       "  table, th, td {\n",
       "    border: 1px solid black;\n",
       "    border-collapse: collapse;\n",
       "  }\n",
       "  th, td {\n",
       "    padding: 5px;\n",
       "  }\n",
       "  th {\n",
       "    text-align: left;\n",
       "  }\n",
       "</style><div class='table-result-container'><table class='table-result'><thead style='background-color: white'><tr><th>ai_fix_grammar(This sentence have some mistake)</th></tr></thead><tbody><tr><td>This sentence has some mistakes</td></tr></tbody></table></div>"
      ]
     },
     "metadata": {
      "application/vnd.databricks.v1+output": {
       "addedWidgets": {},
       "aggData": [],
       "aggError": "",
       "aggOverflow": false,
       "aggSchema": [],
       "aggSeriesLimitReached": false,
       "aggType": "",
       "arguments": {},
       "columnCustomDisplayInfos": {},
       "data": [
        [
         "This sentence has some mistakes"
        ]
       ],
       "datasetInfos": [],
       "dbfsResultPath": null,
       "isJsonSchema": true,
       "metadata": {},
       "overflow": false,
       "plotOptions": {
        "customPlotOptions": {},
        "displayType": "table",
        "pivotAggregation": null,
        "pivotColumns": null,
        "xColumns": null,
        "yColumns": null
       },
       "removedWidgets": [],
       "schema": [
        {
         "metadata": "{}",
         "name": "ai_fix_grammar(This sentence have some mistake)",
         "type": "\"string\""
        }
       ],
       "type": "table"
      }
     },
     "output_type": "display_data"
    },
    {
     "output_type": "display_data",
     "data": {
      "text/html": [
       "<style scoped>\n",
       "  .table-result-container {\n",
       "    max-height: 300px;\n",
       "    overflow: auto;\n",
       "  }\n",
       "  table, th, td {\n",
       "    border: 1px solid black;\n",
       "    border-collapse: collapse;\n",
       "  }\n",
       "  th, td {\n",
       "    padding: 5px;\n",
       "  }\n",
       "  th {\n",
       "    text-align: left;\n",
       "  }\n",
       "</style><div class='table-result-container'><table class='table-result'><thead style='background-color: white'><tr><th>ai_fix_grammar(She dont know what to did.)</th></tr></thead><tbody><tr><td>She doesn't know what to do.</td></tr></tbody></table></div>"
      ]
     },
     "metadata": {
      "application/vnd.databricks.v1+output": {
       "addedWidgets": {},
       "aggData": [],
       "aggError": "",
       "aggOverflow": false,
       "aggSchema": [],
       "aggSeriesLimitReached": false,
       "aggType": "",
       "arguments": {},
       "columnCustomDisplayInfos": {},
       "data": [
        [
         "She doesn't know what to do."
        ]
       ],
       "datasetInfos": [],
       "dbfsResultPath": null,
       "isJsonSchema": true,
       "metadata": {},
       "overflow": false,
       "plotOptions": {
        "customPlotOptions": {},
        "displayType": "table",
        "pivotAggregation": null,
        "pivotColumns": null,
        "xColumns": null,
        "yColumns": null
       },
       "removedWidgets": [],
       "schema": [
        {
         "metadata": "{}",
         "name": "ai_fix_grammar(She dont know what to did.)",
         "type": "\"string\""
        }
       ],
       "type": "table"
      }
     },
     "output_type": "display_data"
    },
    {
     "output_type": "display_data",
     "data": {
      "text/html": [
       "<style scoped>\n",
       "  .table-result-container {\n",
       "    max-height: 300px;\n",
       "    overflow: auto;\n",
       "  }\n",
       "  table, th, td {\n",
       "    border: 1px solid black;\n",
       "    border-collapse: collapse;\n",
       "  }\n",
       "  th, td {\n",
       "    padding: 5px;\n",
       "  }\n",
       "  th {\n",
       "    text-align: left;\n",
       "  }\n",
       "</style><div class='table-result-container'><table class='table-result'><thead style='background-color: white'><tr><th>ai_fix_grammar(He go to school every days.)</th></tr></thead><tbody><tr><td>He goes to school every day.</td></tr></tbody></table></div>"
      ]
     },
     "metadata": {
      "application/vnd.databricks.v1+output": {
       "addedWidgets": {},
       "aggData": [],
       "aggError": "",
       "aggOverflow": false,
       "aggSchema": [],
       "aggSeriesLimitReached": false,
       "aggType": "",
       "arguments": {},
       "columnCustomDisplayInfos": {},
       "data": [
        [
         "He goes to school every day."
        ]
       ],
       "datasetInfos": [],
       "dbfsResultPath": null,
       "isJsonSchema": true,
       "metadata": {},
       "overflow": false,
       "plotOptions": {
        "customPlotOptions": {},
        "displayType": "table",
        "pivotAggregation": null,
        "pivotColumns": null,
        "xColumns": null,
        "yColumns": null
       },
       "removedWidgets": [],
       "schema": [
        {
         "metadata": "{}",
         "name": "ai_fix_grammar(He go to school every days.)",
         "type": "\"string\""
        }
       ],
       "type": "table"
      }
     },
     "output_type": "display_data"
    }
   ],
   "source": [
    "%sql\n",
    "SELECT ai_fix_grammar('This sentence have some mistake');\n",
    "\n",
    "SELECT ai_fix_grammar('She dont know what to did.');\n",
    "\n",
    "SELECT ai_fix_grammar('He go to school every days.');\n"
   ]
  },
  {
   "cell_type": "markdown",
   "metadata": {
    "application/vnd.databricks.v1+cell": {
     "cellMetadata": {},
     "inputWidgets": {},
     "nuid": "37c8d623-71bc-46d4-97e3-b212e35e400f",
     "showTitle": false,
     "title": ""
    }
   },
   "source": [
    "### 5. ai_gen: \n",
    "Generates text based on a given prompt or context, creating coherent and contextually relevant content.\n",
    "\n",
    "Eample:\n",
    "  - Input: \"Write a short story about a brave knight.\"\n",
    "  - Output: \"Once upon a time, in a land far away, there was a brave knight named Sir Gallant. He embarked on a quest to rescue the princess from a formidable dragon. With courage and skill, Sir Gallant defeated the dragon and saved the princess, bringing peace to the kingdom.\""
   ]
  },
  {
   "cell_type": "code",
   "execution_count": 0,
   "metadata": {
    "application/vnd.databricks.v1+cell": {
     "cellMetadata": {},
     "inputWidgets": {},
     "nuid": "d83ab0f2-2233-4c47-b4c6-7527220c3401",
     "showTitle": false,
     "title": ""
    }
   },
   "outputs": [],
   "source": [
    "%sql\n",
    "select ai_gen('Write a short story about a brave knight.')"
   ]
  },
  {
   "cell_type": "code",
   "execution_count": 0,
   "metadata": {
    "application/vnd.databricks.v1+cell": {
     "cellMetadata": {
      "byteLimit": 2048000,
      "rowLimit": 10000
     },
     "inputWidgets": {},
     "nuid": "09f406e9-1838-471d-818b-fbfebcee62b8",
     "showTitle": false,
     "title": ""
    }
   },
   "outputs": [
    {
     "output_type": "display_data",
     "data": {
      "text/html": [
       "<style scoped>\n",
       "  .table-result-container {\n",
       "    max-height: 300px;\n",
       "    overflow: auto;\n",
       "  }\n",
       "  table, th, td {\n",
       "    border: 1px solid black;\n",
       "    border-collapse: collapse;\n",
       "  }\n",
       "  th, td {\n",
       "    padding: 5px;\n",
       "  }\n",
       "  th {\n",
       "    text-align: left;\n",
       "  }\n",
       "</style><div class='table-result-container'><table class='table-result'><thead style='background-color: white'><tr><th>ai_gen(Generate a concise, cheerful email title for a summer bike sale with 20% discount)</th></tr></thead><tbody><tr><td>🎉 Summer Bike Sale: Grab Your Dream Bike at 20% Off! 🚲☀️</td></tr></tbody></table></div>"
      ]
     },
     "metadata": {
      "application/vnd.databricks.v1+output": {
       "addedWidgets": {},
       "aggData": [],
       "aggError": "",
       "aggOverflow": false,
       "aggSchema": [],
       "aggSeriesLimitReached": false,
       "aggType": "",
       "arguments": {},
       "columnCustomDisplayInfos": {},
       "data": [
        [
         "🎉 Summer Bike Sale: Grab Your Dream Bike at 20% Off! 🚲☀️"
        ]
       ],
       "datasetInfos": [],
       "dbfsResultPath": null,
       "isJsonSchema": true,
       "metadata": {},
       "overflow": false,
       "plotOptions": {
        "customPlotOptions": {},
        "displayType": "table",
        "pivotAggregation": null,
        "pivotColumns": null,
        "xColumns": null,
        "yColumns": null
       },
       "removedWidgets": [],
       "schema": [
        {
         "metadata": "{}",
         "name": "ai_gen(Generate a concise, cheerful email title for a summer bike sale with 20% discount)",
         "type": "\"string\""
        }
       ],
       "type": "table"
      }
     },
     "output_type": "display_data"
    }
   ],
   "source": [
    "%sql\n",
    "SELECT ai_gen('Generate a concise, cheerful email title for a summer bike sale with 20% discount');\n"
   ]
  },
  {
   "cell_type": "markdown",
   "metadata": {
    "application/vnd.databricks.v1+cell": {
     "cellMetadata": {},
     "inputWidgets": {},
     "nuid": "2f922605-5bdb-48cb-b96e-d4800f449b78",
     "showTitle": false,
     "title": ""
    }
   },
   "source": [
    "### 6. ai_mask: \n",
    "Masks or hides sensitive or specific information within a text, such as personal data or confidential details.\n",
    "\n",
    "Example:\n",
    "  - Input: \"Contact me at john.doe@example.com for more information.\"\n",
    "  - Output: \"Contact me at [email protected] for more information.\"\n"
   ]
  },
  {
   "cell_type": "code",
   "execution_count": 0,
   "metadata": {
    "application/vnd.databricks.v1+cell": {
     "cellMetadata": {
      "byteLimit": 2048000,
      "rowLimit": 10000
     },
     "inputWidgets": {},
     "nuid": "e562ed47-c0ac-4055-b150-cc0189b93ea5",
     "showTitle": false,
     "title": ""
    }
   },
   "outputs": [
    {
     "output_type": "display_data",
     "data": {
      "text/html": [
       "<style scoped>\n",
       "  .table-result-container {\n",
       "    max-height: 300px;\n",
       "    overflow: auto;\n",
       "  }\n",
       "  table, th, td {\n",
       "    border: 1px solid black;\n",
       "    border-collapse: collapse;\n",
       "  }\n",
       "  th, td {\n",
       "    padding: 5px;\n",
       "  }\n",
       "  th {\n",
       "    text-align: left;\n",
       "  }\n",
       "</style><div class='table-result-container'><table class='table-result'><thead style='background-color: white'><tr><th>ai_mask(John Doe lives in New York. His email is john.doe@example.com., array(person, email))</th></tr></thead><tbody><tr><td>[MASKED] lives in New York. His email is [MASKED].</td></tr></tbody></table></div>"
      ]
     },
     "metadata": {
      "application/vnd.databricks.v1+output": {
       "addedWidgets": {},
       "aggData": [],
       "aggError": "",
       "aggOverflow": false,
       "aggSchema": [],
       "aggSeriesLimitReached": false,
       "aggType": "",
       "arguments": {},
       "columnCustomDisplayInfos": {},
       "data": [
        [
         "[MASKED] lives in New York. His email is [MASKED]."
        ]
       ],
       "datasetInfos": [],
       "dbfsResultPath": null,
       "isJsonSchema": true,
       "metadata": {},
       "overflow": false,
       "plotOptions": {
        "customPlotOptions": {},
        "displayType": "table",
        "pivotAggregation": null,
        "pivotColumns": null,
        "xColumns": null,
        "yColumns": null
       },
       "removedWidgets": [],
       "schema": [
        {
         "metadata": "{}",
         "name": "ai_mask(John Doe lives in New York. His email is john.doe@example.com., array(person, email))",
         "type": "\"string\""
        }
       ],
       "type": "table"
      }
     },
     "output_type": "display_data"
    }
   ],
   "source": [
    "%sql\n",
    "SELECT ai_mask('John Doe lives in New York. His email is john.doe@example.com.', array('person', 'email')  );"
   ]
  },
  {
   "cell_type": "code",
   "execution_count": 0,
   "metadata": {
    "application/vnd.databricks.v1+cell": {
     "cellMetadata": {
      "byteLimit": 2048000,
      "rowLimit": 10000
     },
     "inputWidgets": {},
     "nuid": "617856fa-7527-44c1-9c96-da73bb56d7a3",
     "showTitle": false,
     "title": ""
    }
   },
   "outputs": [
    {
     "output_type": "display_data",
     "data": {
      "text/html": [
       "<style scoped>\n",
       "  .table-result-container {\n",
       "    max-height: 300px;\n",
       "    overflow: auto;\n",
       "  }\n",
       "  table, th, td {\n",
       "    border: 1px solid black;\n",
       "    border-collapse: collapse;\n",
       "  }\n",
       "  th, td {\n",
       "    padding: 5px;\n",
       "  }\n",
       "  th {\n",
       "    text-align: left;\n",
       "  }\n",
       "</style><div class='table-result-container'><table class='table-result'><thead style='background-color: white'><tr><th>ai_mask(Contact me at 555-1234 or visit us at 123 Main St., array(phone, address))</th></tr></thead><tbody><tr><td>Contact me at [MASKED] or visit us at [MASKED]</td></tr></tbody></table></div>"
      ]
     },
     "metadata": {
      "application/vnd.databricks.v1+output": {
       "addedWidgets": {},
       "aggData": [],
       "aggError": "",
       "aggOverflow": false,
       "aggSchema": [],
       "aggSeriesLimitReached": false,
       "aggType": "",
       "arguments": {},
       "columnCustomDisplayInfos": {},
       "data": [
        [
         "Contact me at [MASKED] or visit us at [MASKED]"
        ]
       ],
       "datasetInfos": [],
       "dbfsResultPath": null,
       "isJsonSchema": true,
       "metadata": {},
       "overflow": false,
       "plotOptions": {
        "customPlotOptions": {},
        "displayType": "table",
        "pivotAggregation": null,
        "pivotColumns": null,
        "xColumns": null,
        "yColumns": null
       },
       "removedWidgets": [],
       "schema": [
        {
         "metadata": "{}",
         "name": "ai_mask(Contact me at 555-1234 or visit us at 123 Main St., array(phone, address))",
         "type": "\"string\""
        }
       ],
       "type": "table"
      }
     },
     "output_type": "display_data"
    }
   ],
   "source": [
    "%sql\n",
    "SELECT ai_mask(\n",
    "'Contact me at 555-1234 or visit us at 123 Main St.',\n",
    "array('phone', 'address')\n",
    ");"
   ]
  },
  {
   "cell_type": "markdown",
   "metadata": {
    "application/vnd.databricks.v1+cell": {
     "cellMetadata": {},
     "inputWidgets": {},
     "nuid": "7a8e50fe-ab96-4fc1-9080-da84ad427b51",
     "showTitle": false,
     "title": ""
    }
   },
   "source": [
    "### 7. ai_similarity: \n",
    "Computes the similarity score between two texts or data points, indicating how closely they are related or match.\n",
    "\n",
    "Example:\n",
    "  - Input: \"Databricks\" and \"Apache Spark\"\n",
    "  - Output: \"Similarity Score: 0.75\" (Note: This is an illustrative score; actual computation may vary)"
   ]
  },
  {
   "cell_type": "code",
   "execution_count": 0,
   "metadata": {
    "application/vnd.databricks.v1+cell": {
     "cellMetadata": {
      "byteLimit": 2048000,
      "rowLimit": 10000
     },
     "inputWidgets": {},
     "nuid": "2111c261-e335-479b-aed0-47abe03a8e33",
     "showTitle": false,
     "title": ""
    }
   },
   "outputs": [
    {
     "output_type": "display_data",
     "data": {
      "text/html": [
       "<style scoped>\n",
       "  .table-result-container {\n",
       "    max-height: 300px;\n",
       "    overflow: auto;\n",
       "  }\n",
       "  table, th, td {\n",
       "    border: 1px solid black;\n",
       "    border-collapse: collapse;\n",
       "  }\n",
       "  th, td {\n",
       "    padding: 5px;\n",
       "  }\n",
       "  th {\n",
       "    text-align: left;\n",
       "  }\n",
       "</style><div class='table-result-container'><table class='table-result'><thead style='background-color: white'><tr><th>ai_similarity(Databricks, Apache Spark)</th><th>ai_similarity(Apache Spark, The Apache Spark Engine)</th></tr></thead><tbody><tr><td>0.6715619</td><td>0.83821434</td></tr></tbody></table></div>"
      ]
     },
     "metadata": {
      "application/vnd.databricks.v1+output": {
       "addedWidgets": {},
       "aggData": [],
       "aggError": "",
       "aggOverflow": false,
       "aggSchema": [],
       "aggSeriesLimitReached": false,
       "aggType": "",
       "arguments": {},
       "columnCustomDisplayInfos": {},
       "data": [
        [
         0.6715619,
         0.83821434
        ]
       ],
       "datasetInfos": [],
       "dbfsResultPath": null,
       "isJsonSchema": true,
       "metadata": {},
       "overflow": false,
       "plotOptions": {
        "customPlotOptions": {},
        "displayType": "table",
        "pivotAggregation": null,
        "pivotColumns": null,
        "xColumns": null,
        "yColumns": null
       },
       "removedWidgets": [],
       "schema": [
        {
         "metadata": "{}",
         "name": "ai_similarity(Databricks, Apache Spark)",
         "type": "\"float\""
        },
        {
         "metadata": "{}",
         "name": "ai_similarity(Apache Spark, The Apache Spark Engine)",
         "type": "\"float\""
        }
       ],
       "type": "table"
      }
     },
     "output_type": "display_data"
    }
   ],
   "source": [
    "%sql\n",
    "SELECT ai_similarity('Databricks', 'Apache Spark'),  ai_similarity('Apache Spark', 'The Apache Spark Engine');"
   ]
  },
  {
   "cell_type": "markdown",
   "metadata": {
    "application/vnd.databricks.v1+cell": {
     "cellMetadata": {},
     "inputWidgets": {},
     "nuid": "d8115aef-8765-4d54-b7aa-94d001a7622c",
     "showTitle": false,
     "title": ""
    }
   },
   "source": [
    "### 8. ai_summarize: \n",
    "Condenses a long text into a shorter version, capturing the main points and essential information.\n",
    "\n",
    "Eample:\n",
    "  - Input: \"Artificial Intelligence (AI) is a branch of computer science that aims to create intelligent machines. It has become an essential part of the technology industry. Research associated with artificial intelligence is highly technical and specialized. The core problems of artificial intelligence include programming computers for certain traits such as knowledge, reasoning, problem-solving, perception, learning, and planning.\"\n",
    "  - Output: \"AI is a computer science branch focused on creating intelligent machines, essential in tech, involving knowledge, reasoning, problem-solving, perception, learning, and planning.\"\n"
   ]
  },
  {
   "cell_type": "code",
   "execution_count": 0,
   "metadata": {
    "application/vnd.databricks.v1+cell": {
     "cellMetadata": {
      "byteLimit": 2048000,
      "rowLimit": 10000
     },
     "inputWidgets": {},
     "nuid": "1cbef2b1-0926-44a4-9daf-399b5d95a6b1",
     "showTitle": false,
     "title": ""
    }
   },
   "outputs": [
    {
     "output_type": "display_data",
     "data": {
      "text/html": [
       "<style scoped>\n",
       "  .table-result-container {\n",
       "    max-height: 300px;\n",
       "    overflow: auto;\n",
       "  }\n",
       "  table, th, td {\n",
       "    border: 1px solid black;\n",
       "    border-collapse: collapse;\n",
       "  }\n",
       "  th, td {\n",
       "    padding: 5px;\n",
       "  }\n",
       "  th {\n",
       "    text-align: left;\n",
       "  }\n",
       "</style><div class='table-result-container'><table class='table-result'><thead style='background-color: white'><tr><th>ai_summarize(Artificial Intelligence (AI) is a branch of computer science that aims to create intelligent machines. It has become an essential part of the technology industry. Research associated with artificial intelligence is highly technical and specialized. The core problems of artificial intelligence include programming computers for certain traits such as knowledge, reasoning, problem-solving, perception, learning, and planning., 50)</th></tr></thead><tbody><tr><td>Artificial Intelligence (AI) is a computer science field creating intelligent machines, a key part of the tech industry. AI research focuses on programming computers for traits like knowledge, reasoning, problem-solving, perception, learning, and planning.</td></tr></tbody></table></div>"
      ]
     },
     "metadata": {
      "application/vnd.databricks.v1+output": {
       "addedWidgets": {},
       "aggData": [],
       "aggError": "",
       "aggOverflow": false,
       "aggSchema": [],
       "aggSeriesLimitReached": false,
       "aggType": "",
       "arguments": {},
       "columnCustomDisplayInfos": {},
       "data": [
        [
         "Artificial Intelligence (AI) is a computer science field creating intelligent machines, a key part of the tech industry. AI research focuses on programming computers for traits like knowledge, reasoning, problem-solving, perception, learning, and planning."
        ]
       ],
       "datasetInfos": [],
       "dbfsResultPath": null,
       "isJsonSchema": true,
       "metadata": {},
       "overflow": false,
       "plotOptions": {
        "customPlotOptions": {},
        "displayType": "table",
        "pivotAggregation": null,
        "pivotColumns": null,
        "xColumns": null,
        "yColumns": null
       },
       "removedWidgets": [],
       "schema": [
        {
         "metadata": "{}",
         "name": "ai_summarize(Artificial Intelligence (AI) is a branch of computer science that aims to create intelligent machines. It has become an essential part of the technology industry. Research associated with artificial intelligence is highly technical and specialized. The core problems of artificial intelligence include programming computers for certain traits such as knowledge, reasoning, problem-solving, perception, learning, and planning., 50)",
         "type": "\"string\""
        }
       ],
       "type": "table"
      }
     },
     "output_type": "display_data"
    }
   ],
   "source": [
    "%sql\n",
    "select ai_summarize('Artificial Intelligence (AI) is a branch of computer science that aims to create intelligent machines. It has become an essential part of the technology industry. Research associated with artificial intelligence is highly technical and specialized. The core problems of artificial intelligence include programming computers for certain traits such as knowledge, reasoning, problem-solving, perception, learning, and planning.')"
   ]
  },
  {
   "cell_type": "code",
   "execution_count": 0,
   "metadata": {
    "application/vnd.databricks.v1+cell": {
     "cellMetadata": {
      "byteLimit": 2048000,
      "rowLimit": 10000
     },
     "inputWidgets": {},
     "nuid": "af3969a9-7b2d-4dcc-928a-77cb0c74a3fc",
     "showTitle": false,
     "title": ""
    }
   },
   "outputs": [
    {
     "output_type": "display_data",
     "data": {
      "text/html": [
       "<style scoped>\n",
       "  .table-result-container {\n",
       "    max-height: 300px;\n",
       "    overflow: auto;\n",
       "  }\n",
       "  table, th, td {\n",
       "    border: 1px solid black;\n",
       "    border-collapse: collapse;\n",
       "  }\n",
       "  th, td {\n",
       "    padding: 5px;\n",
       "  }\n",
       "  th {\n",
       "    text-align: left;\n",
       "  }\n",
       "</style><div class='table-result-container'><table class='table-result'><thead style='background-color: white'><tr><th>ai_summarize(Artificial Intelligence (AI) is a branch of computer science that aims to create intelligent machines. It has become an essential part of the technology industry. Research associated with artificial intelligence is highly technical and specialized. The core problems of artificial intelligence include programming computers for certain traits such as knowledge, reasoning, problem-solving, perception, learning, and planning., 20)</th></tr></thead><tbody><tr><td>Artificial Intelligence is a specialized field of computer science focused on creating intelligent machines, addressing problems like knowledge representation, reasoning, and learning.</td></tr></tbody></table></div>"
      ]
     },
     "metadata": {
      "application/vnd.databricks.v1+output": {
       "addedWidgets": {},
       "aggData": [],
       "aggError": "",
       "aggOverflow": false,
       "aggSchema": [],
       "aggSeriesLimitReached": false,
       "aggType": "",
       "arguments": {},
       "columnCustomDisplayInfos": {},
       "data": [
        [
         "Artificial Intelligence is a specialized field of computer science focused on creating intelligent machines, addressing problems like knowledge representation, reasoning, and learning."
        ]
       ],
       "datasetInfos": [],
       "dbfsResultPath": null,
       "isJsonSchema": true,
       "metadata": {},
       "overflow": false,
       "plotOptions": {
        "customPlotOptions": {},
        "displayType": "table",
        "pivotAggregation": null,
        "pivotColumns": null,
        "xColumns": null,
        "yColumns": null
       },
       "removedWidgets": [],
       "schema": [
        {
         "metadata": "{}",
         "name": "ai_summarize(Artificial Intelligence (AI) is a branch of computer science that aims to create intelligent machines. It has become an essential part of the technology industry. Research associated with artificial intelligence is highly technical and specialized. The core problems of artificial intelligence include programming computers for certain traits such as knowledge, reasoning, problem-solving, perception, learning, and planning., 20)",
         "type": "\"string\""
        }
       ],
       "type": "table"
      }
     },
     "output_type": "display_data"
    }
   ],
   "source": [
    "%sql\n",
    "select ai_summarize('Artificial Intelligence (AI) is a branch of computer science that aims to create intelligent machines. It has become an essential part of the technology industry. Research associated with artificial intelligence is highly technical and specialized. The core problems of artificial intelligence include programming computers for certain traits such as knowledge, reasoning, problem-solving, perception, learning, and planning.',20)"
   ]
  },
  {
   "cell_type": "markdown",
   "metadata": {
    "application/vnd.databricks.v1+cell": {
     "cellMetadata": {},
     "inputWidgets": {},
     "nuid": "7e74418c-8441-461f-8888-568ab5740be3",
     "showTitle": false,
     "title": ""
    }
   },
   "source": [
    "###  9. ai_translate: \n",
    " Translates text from one language to another while maintaining the original meaning and context.\n",
    "\n",
    "Eample:\n",
    "  - Input: \"Hello, how are you?\" (English)\n",
    "  - Output: \"Hola, ¿cómo estás?\" (Spanish)"
   ]
  },
  {
   "cell_type": "code",
   "execution_count": 0,
   "metadata": {
    "application/vnd.databricks.v1+cell": {
     "cellMetadata": {
      "byteLimit": 2048000,
      "rowLimit": 10000
     },
     "inputWidgets": {},
     "nuid": "fcb071bd-c38f-49ab-9a76-ae5ccfd65f6f",
     "showTitle": false,
     "title": ""
    }
   },
   "outputs": [
    {
     "output_type": "display_data",
     "data": {
      "text/html": [
       "<style scoped>\n",
       "  .table-result-container {\n",
       "    max-height: 300px;\n",
       "    overflow: auto;\n",
       "  }\n",
       "  table, th, td {\n",
       "    border: 1px solid black;\n",
       "    border-collapse: collapse;\n",
       "  }\n",
       "  th, td {\n",
       "    padding: 5px;\n",
       "  }\n",
       "  th {\n",
       "    text-align: left;\n",
       "  }\n",
       "</style><div class='table-result-container'><table class='table-result'><thead style='background-color: white'><tr><th>ai_translate(This function is so amazing!, fr)</th></tr></thead><tbody><tr><td>Cette fonction est tellement géniale !</td></tr></tbody></table></div>"
      ]
     },
     "metadata": {
      "application/vnd.databricks.v1+output": {
       "addedWidgets": {},
       "aggData": [],
       "aggError": "",
       "aggOverflow": false,
       "aggSchema": [],
       "aggSeriesLimitReached": false,
       "aggType": "",
       "arguments": {},
       "columnCustomDisplayInfos": {},
       "data": [
        [
         "Cette fonction est tellement géniale !"
        ]
       ],
       "datasetInfos": [],
       "dbfsResultPath": null,
       "isJsonSchema": true,
       "metadata": {},
       "overflow": false,
       "plotOptions": {
        "customPlotOptions": {},
        "displayType": "table",
        "pivotAggregation": null,
        "pivotColumns": null,
        "xColumns": null,
        "yColumns": null
       },
       "removedWidgets": [],
       "schema": [
        {
         "metadata": "{}",
         "name": "ai_translate(This function is so amazing!, fr)",
         "type": "\"string\""
        }
       ],
       "type": "table"
      }
     },
     "output_type": "display_data"
    },
    {
     "output_type": "display_data",
     "data": {
      "text/html": [
       "<style scoped>\n",
       "  .table-result-container {\n",
       "    max-height: 300px;\n",
       "    overflow: auto;\n",
       "  }\n",
       "  table, th, td {\n",
       "    border: 1px solid black;\n",
       "    border-collapse: collapse;\n",
       "  }\n",
       "  th, td {\n",
       "    padding: 5px;\n",
       "  }\n",
       "  th {\n",
       "    text-align: left;\n",
       "  }\n",
       "</style><div class='table-result-container'><table class='table-result'><thead style='background-color: white'><tr><th>ai_translate(This function is so amazing!, hi)</th></tr></thead><tbody><tr><td>Yeh function itni amazeengi hai!</td></tr></tbody></table></div>"
      ]
     },
     "metadata": {
      "application/vnd.databricks.v1+output": {
       "addedWidgets": {},
       "aggData": [],
       "aggError": "",
       "aggOverflow": false,
       "aggSchema": [],
       "aggSeriesLimitReached": false,
       "aggType": "",
       "arguments": {},
       "columnCustomDisplayInfos": {},
       "data": [
        [
         "Yeh function itni amazeengi hai!"
        ]
       ],
       "datasetInfos": [],
       "dbfsResultPath": null,
       "isJsonSchema": true,
       "metadata": {},
       "overflow": false,
       "plotOptions": {
        "customPlotOptions": {},
        "displayType": "table",
        "pivotAggregation": null,
        "pivotColumns": null,
        "xColumns": null,
        "yColumns": null
       },
       "removedWidgets": [],
       "schema": [
        {
         "metadata": "{}",
         "name": "ai_translate(This function is so amazing!, hi)",
         "type": "\"string\""
        }
       ],
       "type": "table"
      }
     },
     "output_type": "display_data"
    }
   ],
   "source": [
    "%sql\n",
    "SELECT ai_translate(\"This function is so amazing!\", \"fr\");\n",
    "SELECT ai_translate(\"This function is so amazing!\", \"hi\")"
   ]
  },
  {
   "cell_type": "markdown",
   "metadata": {
    "application/vnd.databricks.v1+cell": {
     "cellMetadata": {},
     "inputWidgets": {},
     "nuid": "08b7bfda-a6c6-41a8-8d4c-245444b3248b",
     "showTitle": false,
     "title": ""
    }
   },
   "source": [
    "### Bonus Info\n",
    "\n",
    "-- Notebook sql cell is now become smart cell  with autocompletion and syntax highlighting, Also it provide suggestion for writing comments "
   ]
  }
 ],
 "metadata": {
  "application/vnd.databricks.v1+notebook": {
   "dashboards": [],
   "environmentMetadata": null,
   "language": "python",
   "notebookMetadata": {
    "mostRecentlyExecutedCommandWithImplicitDF": {
     "commandId": -1,
     "dataframes": [
      "_sqldf"
     ]
    },
    "pythonIndentUnit": 4
   },
   "notebookName": "Databricks AI Funcation 01- Builtin SQL AI Funcation",
   "widgets": {}
  }
 },
 "nbformat": 4,
 "nbformat_minor": 0
}
