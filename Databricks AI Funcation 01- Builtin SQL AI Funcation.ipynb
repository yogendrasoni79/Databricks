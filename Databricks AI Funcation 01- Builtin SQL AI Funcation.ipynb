{
 "cells": [
  {
   "cell_type": "markdown",
   "metadata": {
    "application/vnd.databricks.v1+cell": {
     "cellMetadata": {},
     "inputWidgets": {},
     "nuid": "d610a2ac-e977-473c-acb2-38e2ecee5bae",
     "showTitle": false,
     "title": ""
    }
   },
   "source": [
    "# Process and analyses text with Built In Databricks SQL AI functions"
   ]
  },
  {
   "cell_type": "markdown",
   "metadata": {
    "application/vnd.databricks.v1+cell": {
     "cellMetadata": {},
     "inputWidgets": {},
     "nuid": "6b44075f-fe34-4427-a499-59e5990b26d6",
     "showTitle": false,
     "title": ""
    }
   },
   "source": [
    "Databricks SQL provides built-in GenAI capabilities, letting you perform adhoc operation, leveraging state of the art LLM, optimized for these tasks.\n",
    "\n",
    "These functions are the following:\n",
    "\n",
    "- ai_analyze_sentiment\n",
    "- ai_classify\n",
    "- ai_extract\n",
    "- ai_fix_grammar\n",
    "- ai_gen\n",
    "- ai_mask\n",
    "- ai_similarity\n",
    "- ai_summarize\n",
    "- ai_translate\n",
    "\n",
    "Using these functions is pretty straightforward. Under the hood, they call specialized LLMs with a custom prompt, providing fast answers.\n",
    "\n",
    "You can use them on any column in any SQL text. This demo runs using a SQL Warehouse!\n",
    "\n",
    "Credit for my knowledge on this topic goes to https://notebooks.databricks.com/demos/sql-ai-functions/index.html# "
   ]
  },
  {
   "cell_type": "markdown",
   "metadata": {
    "application/vnd.databricks.v1+cell": {
     "cellMetadata": {},
     "inputWidgets": {},
     "nuid": "6677b7fc-34a1-4053-894a-de15692de98a",
     "showTitle": false,
     "title": ""
    }
   },
   "source": [
    "Import required packages"
   ]
  },
  {
   "cell_type": "code",
   "execution_count": 0,
   "metadata": {
    "application/vnd.databricks.v1+cell": {
     "cellMetadata": {},
     "inputWidgets": {},
     "nuid": "f8f736f8-6d6c-43b8-b230-f405250a4cb4",
     "showTitle": false,
     "title": ""
    }
   },
   "outputs": [],
   "source": [
    "# Install the Databricks LLM AI functions module\n",
    "%pip install dbdemos"
   ]
  },
  {
   "cell_type": "code",
   "execution_count": 0,
   "metadata": {
    "application/vnd.databricks.v1+cell": {
     "cellMetadata": {},
     "inputWidgets": {},
     "nuid": "58cf04a6-6c9c-4d72-99d6-1e29376657e8",
     "showTitle": false,
     "title": ""
    }
   },
   "outputs": [],
   "source": [
    "#import and install databricks LLM AI funcation module dbdemos \n",
    "import dbdemos\n",
    "dbdemos.install('sql-ai-functions')"
   ]
  },
  {
   "cell_type": "markdown",
   "metadata": {
    "application/vnd.databricks.v1+cell": {
     "cellMetadata": {},
     "inputWidgets": {},
     "nuid": "1fd7d8c3-fa5f-46fb-800e-5d32aace1922",
     "showTitle": false,
     "title": ""
    }
   },
   "source": [
    "### Using a SQL Warehouse to run this demo\n",
    "### \n",
    "This demo runs using a SQL Warehouse!\n",
    "\n",
    "Make sure you select one using the dropdown on the top right of your notebook (don't select a classic compute/cluster)"
   ]
  },
  {
   "cell_type": "code",
   "execution_count": 0,
   "metadata": {
    "application/vnd.databricks.v1+cell": {
     "cellMetadata": {},
     "inputWidgets": {},
     "nuid": "71495032-6b5a-4422-822d-f35ed03de3fa",
     "showTitle": false,
     "title": ""
    }
   },
   "outputs": [],
   "source": [
    "%sql\n",
    "-- verify that we're running on a SQL Warehouse\n",
    "SELECT assert_true(current_version().dbsql_version is not null, 'YOU MUST USE A SQL WAREHOUSE, not a cluster');"
   ]
  },
  {
   "cell_type": "code",
   "execution_count": 0,
   "metadata": {
    "application/vnd.databricks.v1+cell": {
     "cellMetadata": {},
     "inputWidgets": {},
     "nuid": "e6907bb1-1ffb-4b39-bbe9-ad8a0977bdea",
     "showTitle": false,
     "title": ""
    }
   },
   "outputs": [],
   "source": [
    "%sql\n",
    "-- Verify Gen AI installation completed sucessfully and work as expected, you can use this line to test your installation same as you use chatGPT or any LLM application. \n",
    "SELECT ai_gen('Generate a concise, cheerful email title for a summer bike sale with 20% discount');"
   ]
  },
  {
   "cell_type": "markdown",
   "metadata": {
    "application/vnd.databricks.v1+cell": {
     "cellMetadata": {},
     "inputWidgets": {},
     "nuid": "0dee3935-b88b-4e4a-9695-01f51546d824",
     "showTitle": false,
     "title": ""
    }
   },
   "source": [
    "### 1. **ai_analyze_sentiment:** \n",
    "Analyzes the sentiment of a given text, determining whether the expressed opinion is positive, negative, or neutral.\n",
    "\n",
    "  Eample 1\n",
    "   - Input: \"I love the new features in the latest software update! It's so user-friendly and efficient.\"\n",
    "   - Output: \"Positive\"\n",
    "   \n",
    "  Eample 2\n",
    "   - Input: \"After installing update, PC starting slow.\"\n",
    "   - Output: \"Negative\""
   ]
  },
  {
   "cell_type": "code",
   "execution_count": 0,
   "metadata": {
    "application/vnd.databricks.v1+cell": {
     "cellMetadata": {},
     "inputWidgets": {},
     "nuid": "ab46a2c3-8d48-4ee5-8f3f-aa6bf1ee9ee1",
     "showTitle": false,
     "title": ""
    }
   },
   "outputs": [],
   "source": [
    "%sql\n",
    "select ai_analyze_sentiment(\"I love the new features in the latest software update! It's so user-friendly and efficient.\")"
   ]
  },
  {
   "cell_type": "markdown",
   "metadata": {
    "application/vnd.databricks.v1+cell": {
     "cellMetadata": {},
     "inputWidgets": {},
     "nuid": "d8127634-03b7-4491-a604-1a70b1ea5243",
     "showTitle": false,
     "title": ""
    }
   },
   "source": [
    "### 2. ai_classify: \n",
    "Categorizes text or data into predefined classes or labels based on its content\n",
    "**ai_classify**:\n",
    "   - Input: \"This email is regarding the annual budget meeting.\"\n",
    "   - Output: \"Category: Business Communication\""
   ]
  },
  {
   "cell_type": "code",
   "execution_count": 0,
   "metadata": {
    "application/vnd.databricks.v1+cell": {
     "cellMetadata": {},
     "inputWidgets": {},
     "nuid": "6544f3a1-23b8-4936-a87c-6ed4a1f42b24",
     "showTitle": false,
     "title": ""
    }
   },
   "outputs": [],
   "source": [
    "%sql\n",
    "SELECT ai_classify(\"My password is leaked.\", ARRAY(\"urgent\", \"not urgent\"));"
   ]
  },
  {
   "cell_type": "markdown",
   "metadata": {
    "application/vnd.databricks.v1+cell": {
     "cellMetadata": {},
     "inputWidgets": {},
     "nuid": "d3c64260-c09e-4673-9f7d-4701b766f2e4",
     "showTitle": false,
     "title": ""
    }
   },
   "source": [
    "### 3. ai_extract: \n",
    "Extracts specific information, such as entities, keywords, or other relevant data, from a given text.\n",
    "\n",
    "Eample:\n",
    "  - Input: \"John Doe will be attending the conference in New York on September 12th.\"\n",
    "  - Output: \"Entities: [Name: John Doe, Event: conference, Location: New York, Date: September 12th]\""
   ]
  },
  {
   "cell_type": "code",
   "execution_count": 0,
   "metadata": {
    "application/vnd.databricks.v1+cell": {
     "cellMetadata": {},
     "inputWidgets": {},
     "nuid": "67015cd2-ff65-47ff-b5a6-58f80a7e4843",
     "showTitle": false,
     "title": ""
    }
   },
   "outputs": [],
   "source": []
  },
  {
   "cell_type": "markdown",
   "metadata": {
    "application/vnd.databricks.v1+cell": {
     "cellMetadata": {},
     "inputWidgets": {},
     "nuid": "568b4f01-d02c-48b8-8354-29def840ad84",
     "showTitle": false,
     "title": ""
    }
   },
   "source": [
    "### 4. ai_fix_grammar: \n",
    "Identifies and corrects grammatical errors in a text, ensuring proper syntax and language usage.\n",
    "\n",
    "Eample:\n",
    "  - Input: \"He dont like to eat vegetables.\"\n",
    "  - Output: \"He doesn't like to eat vegetables.\""
   ]
  },
  {
   "cell_type": "code",
   "execution_count": 0,
   "metadata": {
    "application/vnd.databricks.v1+cell": {
     "cellMetadata": {},
     "inputWidgets": {},
     "nuid": "38177870-8760-48e6-ba42-b2a6369849ce",
     "showTitle": false,
     "title": ""
    }
   },
   "outputs": [],
   "source": [
    "%sql\n",
    "SELECT ai_fix_grammar('He dont like to eat vegetables');"
   ]
  },
  {
   "cell_type": "markdown",
   "metadata": {
    "application/vnd.databricks.v1+cell": {
     "cellMetadata": {},
     "inputWidgets": {},
     "nuid": "37c8d623-71bc-46d4-97e3-b212e35e400f",
     "showTitle": false,
     "title": ""
    }
   },
   "source": [
    "### 5. ai_gen: \n",
    "Generates text based on a given prompt or context, creating coherent and contextually relevant content.\n",
    "\n",
    "Eample:\n",
    "  - Input: \"Write a short story about a brave knight.\"\n",
    "  - Output: \"Once upon a time, in a land far away, there was a brave knight named Sir Gallant. He embarked on a quest to rescue the princess from a formidable dragon. With courage and skill, Sir Gallant defeated the dragon and saved the princess, bringing peace to the kingdom.\""
   ]
  },
  {
   "cell_type": "code",
   "execution_count": 0,
   "metadata": {
    "application/vnd.databricks.v1+cell": {
     "cellMetadata": {},
     "inputWidgets": {},
     "nuid": "d83ab0f2-2233-4c47-b4c6-7527220c3401",
     "showTitle": false,
     "title": ""
    }
   },
   "outputs": [],
   "source": [
    "%sql\n",
    "select ai_gen('Write a short story about a brave knight.')"
   ]
  },
  {
   "cell_type": "markdown",
   "metadata": {
    "application/vnd.databricks.v1+cell": {
     "cellMetadata": {},
     "inputWidgets": {},
     "nuid": "2f922605-5bdb-48cb-b96e-d4800f449b78",
     "showTitle": false,
     "title": ""
    }
   },
   "source": [
    "### 6. ai_mask: \n",
    "Masks or hides sensitive or specific information within a text, such as personal data or confidential details.\n",
    "\n",
    "Example:\n",
    "  - Input: \"Contact me at john.doe@example.com for more information.\"\n",
    "  - Output: \"Contact me at [email protected] for more information.\"\n"
   ]
  },
  {
   "cell_type": "code",
   "execution_count": 0,
   "metadata": {
    "application/vnd.databricks.v1+cell": {
     "cellMetadata": {},
     "inputWidgets": {},
     "nuid": "e562ed47-c0ac-4055-b150-cc0189b93ea5",
     "showTitle": false,
     "title": ""
    }
   },
   "outputs": [],
   "source": []
  },
  {
   "cell_type": "markdown",
   "metadata": {
    "application/vnd.databricks.v1+cell": {
     "cellMetadata": {},
     "inputWidgets": {},
     "nuid": "7a8e50fe-ab96-4fc1-9080-da84ad427b51",
     "showTitle": false,
     "title": ""
    }
   },
   "source": [
    "### 7. ai_similarity: \n",
    "Computes the similarity score between two texts or data points, indicating how closely they are related or match.\n",
    "\n",
    "Example:\n",
    "  - Input: \"Databricks\" and \"Apache Spark\"\n",
    "  - Output: \"Similarity Score: 0.75\" (Note: This is an illustrative score; actual computation may vary)"
   ]
  },
  {
   "cell_type": "code",
   "execution_count": 0,
   "metadata": {
    "application/vnd.databricks.v1+cell": {
     "cellMetadata": {},
     "inputWidgets": {},
     "nuid": "2111c261-e335-479b-aed0-47abe03a8e33",
     "showTitle": false,
     "title": ""
    }
   },
   "outputs": [],
   "source": [
    "%sql\n",
    "SELECT ai_similarity('Databricks', 'Apache Spark'),  ai_similarity('Apache Spark', 'The Apache Spark Engine');"
   ]
  },
  {
   "cell_type": "markdown",
   "metadata": {
    "application/vnd.databricks.v1+cell": {
     "cellMetadata": {},
     "inputWidgets": {},
     "nuid": "d8115aef-8765-4d54-b7aa-94d001a7622c",
     "showTitle": false,
     "title": ""
    }
   },
   "source": [
    "### 8. ai_summarize: \n",
    "Condenses a long text into a shorter version, capturing the main points and essential information.\n",
    "\n",
    "Eample:\n",
    "  - Input: \"Artificial Intelligence (AI) is a branch of computer science that aims to create intelligent machines. It has become an essential part of the technology industry. Research associated with artificial intelligence is highly technical and specialized. The core problems of artificial intelligence include programming computers for certain traits such as knowledge, reasoning, problem-solving, perception, learning, and planning.\"\n",
    "  - Output: \"AI is a computer science branch focused on creating intelligent machines, essential in tech, involving knowledge, reasoning, problem-solving, perception, learning, and planning.\"\n"
   ]
  },
  {
   "cell_type": "code",
   "execution_count": 0,
   "metadata": {
    "application/vnd.databricks.v1+cell": {
     "cellMetadata": {},
     "inputWidgets": {},
     "nuid": "1cbef2b1-0926-44a4-9daf-399b5d95a6b1",
     "showTitle": false,
     "title": ""
    }
   },
   "outputs": [],
   "source": [
    "%sql\n",
    "select ai_summarize('Artificial Intelligence (AI) is a branch of computer science that aims to create intelligent machines. It has become an essential part of the technology industry. Research associated with artificial intelligence is highly technical and specialized. The core problems of artificial intelligence include programming computers for certain traits such as knowledge, reasoning, problem-solving, perception, learning, and planning.')"
   ]
  },
  {
   "cell_type": "markdown",
   "metadata": {
    "application/vnd.databricks.v1+cell": {
     "cellMetadata": {},
     "inputWidgets": {},
     "nuid": "7e74418c-8441-461f-8888-568ab5740be3",
     "showTitle": false,
     "title": ""
    }
   },
   "source": [
    "###  9. ai_translate: \n",
    " Translates text from one language to another while maintaining the original meaning and context.\n",
    "\n",
    "Eample:\n",
    "  - Input: \"Hello, how are you?\" (English)\n",
    "  - Output: \"Hola, ¿cómo estás?\" (Spanish)"
   ]
  },
  {
   "cell_type": "code",
   "execution_count": 0,
   "metadata": {
    "application/vnd.databricks.v1+cell": {
     "cellMetadata": {},
     "inputWidgets": {},
     "nuid": "fcb071bd-c38f-49ab-9a76-ae5ccfd65f6f",
     "showTitle": false,
     "title": ""
    }
   },
   "outputs": [],
   "source": [
    "%sql\n",
    "SELECT ai_translate(\"This function is so amazing!\", \"fr\");\n",
    "SELECT ai_translate(\"This function is so amazing!\", \"hi\")"
   ]
  },
  {
   "cell_type": "markdown",
   "metadata": {
    "application/vnd.databricks.v1+cell": {
     "cellMetadata": {},
     "inputWidgets": {},
     "nuid": "08b7bfda-a6c6-41a8-8d4c-245444b3248b",
     "showTitle": false,
     "title": ""
    }
   },
   "source": [
    "### Bonus Info\n",
    "\n",
    "-- Notebook sql cell is now become smart cell  with autocompletion and syntax highlighting, Also it provide suggestion for writing comments "
   ]
  }
 ],
 "metadata": {
  "application/vnd.databricks.v1+notebook": {
   "dashboards": [],
   "environmentMetadata": null,
   "language": "python",
   "notebookMetadata": {
    "pythonIndentUnit": 4
   },
   "notebookName": "Databricks AI Funcation 01- Builtin SQL AI Funcation",
   "widgets": {}
  }
 },
 "nbformat": 4,
 "nbformat_minor": 0
}
